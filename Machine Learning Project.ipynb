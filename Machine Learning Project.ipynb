{
 "cells": [
  {
   "cell_type": "markdown",
   "id": "165839d8",
   "metadata": {},
   "source": [
    "# Machine Learning K-Means Sample_Superstore Project"
   ]
  },
  {
   "cell_type": "code",
   "execution_count": 383,
   "id": "3dc19567",
   "metadata": {},
   "outputs": [],
   "source": [
    "#import necessary libraries\n",
    "import pandas as pd\n",
    "\n",
    "#notice that we import KMeans which will be used to create clusters\n",
    "from sklearn.cluster import KMeans\n",
    "import matplotlib.pyplot as plt\n",
    "import seaborn as sns"
   ]
  },
  {
   "cell_type": "markdown",
   "id": "6592217f",
   "metadata": {},
   "source": [
    "# Data Set"
   ]
  },
  {
   "cell_type": "code",
   "execution_count": 384,
   "id": "443e3a8e",
   "metadata": {},
   "outputs": [],
   "source": [
    "store = pd.read_csv('Sample_Superstore.csv',encoding='unicode-escape')\n"
   ]
  },
  {
   "cell_type": "code",
   "execution_count": 385,
   "id": "dfbac553",
   "metadata": {
    "scrolled": false
   },
   "outputs": [
    {
     "data": {
      "text/html": [
       "<div>\n",
       "<style scoped>\n",
       "    .dataframe tbody tr th:only-of-type {\n",
       "        vertical-align: middle;\n",
       "    }\n",
       "\n",
       "    .dataframe tbody tr th {\n",
       "        vertical-align: top;\n",
       "    }\n",
       "\n",
       "    .dataframe thead th {\n",
       "        text-align: right;\n",
       "    }\n",
       "</style>\n",
       "<table border=\"1\" class=\"dataframe\">\n",
       "  <thead>\n",
       "    <tr style=\"text-align: right;\">\n",
       "      <th></th>\n",
       "      <th>Row ID</th>\n",
       "      <th>Order ID</th>\n",
       "      <th>Order Date</th>\n",
       "      <th>Ship Date</th>\n",
       "      <th>Ship Mode</th>\n",
       "      <th>Customer ID</th>\n",
       "      <th>Customer Name</th>\n",
       "      <th>Segment</th>\n",
       "      <th>Country/Region</th>\n",
       "      <th>City</th>\n",
       "      <th>...</th>\n",
       "      <th>Postal Code</th>\n",
       "      <th>Region</th>\n",
       "      <th>Product ID</th>\n",
       "      <th>Category</th>\n",
       "      <th>Sub-Category</th>\n",
       "      <th>Product Name</th>\n",
       "      <th>Sales</th>\n",
       "      <th>Quantity</th>\n",
       "      <th>Discount</th>\n",
       "      <th>Profit</th>\n",
       "    </tr>\n",
       "  </thead>\n",
       "  <tbody>\n",
       "    <tr>\n",
       "      <th>0</th>\n",
       "      <td>1</td>\n",
       "      <td>CA-2018-152156</td>\n",
       "      <td>11/8/2018</td>\n",
       "      <td>11/11/2018</td>\n",
       "      <td>Second Class</td>\n",
       "      <td>CG-12520</td>\n",
       "      <td>Claire Gute</td>\n",
       "      <td>Consumer</td>\n",
       "      <td>United States</td>\n",
       "      <td>Henderson</td>\n",
       "      <td>...</td>\n",
       "      <td>42420.0</td>\n",
       "      <td>South</td>\n",
       "      <td>FUR-BO-10001798</td>\n",
       "      <td>Furniture</td>\n",
       "      <td>Bookcases</td>\n",
       "      <td>Bush Somerset Collection Bookcase</td>\n",
       "      <td>261.9600</td>\n",
       "      <td>2</td>\n",
       "      <td>0.00</td>\n",
       "      <td>41.9136</td>\n",
       "    </tr>\n",
       "    <tr>\n",
       "      <th>1</th>\n",
       "      <td>2</td>\n",
       "      <td>CA-2018-152156</td>\n",
       "      <td>11/8/2018</td>\n",
       "      <td>11/11/2018</td>\n",
       "      <td>Second Class</td>\n",
       "      <td>CG-12520</td>\n",
       "      <td>Claire Gute</td>\n",
       "      <td>Consumer</td>\n",
       "      <td>United States</td>\n",
       "      <td>Henderson</td>\n",
       "      <td>...</td>\n",
       "      <td>42420.0</td>\n",
       "      <td>South</td>\n",
       "      <td>FUR-CH-10000454</td>\n",
       "      <td>Furniture</td>\n",
       "      <td>Chairs</td>\n",
       "      <td>Hon Deluxe Fabric Upholstered Stacking Chairs,...</td>\n",
       "      <td>731.9400</td>\n",
       "      <td>3</td>\n",
       "      <td>0.00</td>\n",
       "      <td>219.5820</td>\n",
       "    </tr>\n",
       "    <tr>\n",
       "      <th>2</th>\n",
       "      <td>3</td>\n",
       "      <td>CA-2018-138688</td>\n",
       "      <td>6/12/2018</td>\n",
       "      <td>6/16/2018</td>\n",
       "      <td>Second Class</td>\n",
       "      <td>DV-13045</td>\n",
       "      <td>Darrin Van Huff</td>\n",
       "      <td>Corporate</td>\n",
       "      <td>United States</td>\n",
       "      <td>Los Angeles</td>\n",
       "      <td>...</td>\n",
       "      <td>90036.0</td>\n",
       "      <td>West</td>\n",
       "      <td>OFF-LA-10000240</td>\n",
       "      <td>Office Supplies</td>\n",
       "      <td>Labels</td>\n",
       "      <td>Self-Adhesive Address Labels for Typewriters b...</td>\n",
       "      <td>14.6200</td>\n",
       "      <td>2</td>\n",
       "      <td>0.00</td>\n",
       "      <td>6.8714</td>\n",
       "    </tr>\n",
       "    <tr>\n",
       "      <th>3</th>\n",
       "      <td>4</td>\n",
       "      <td>US-2017-108966</td>\n",
       "      <td>10/11/2017</td>\n",
       "      <td>10/18/2017</td>\n",
       "      <td>Standard Class</td>\n",
       "      <td>SO-20335</td>\n",
       "      <td>Sean O'Donnell</td>\n",
       "      <td>Consumer</td>\n",
       "      <td>United States</td>\n",
       "      <td>Fort Lauderdale</td>\n",
       "      <td>...</td>\n",
       "      <td>33311.0</td>\n",
       "      <td>South</td>\n",
       "      <td>FUR-TA-10000577</td>\n",
       "      <td>Furniture</td>\n",
       "      <td>Tables</td>\n",
       "      <td>Bretford CR4500 Series Slim Rectangular Table</td>\n",
       "      <td>957.5775</td>\n",
       "      <td>5</td>\n",
       "      <td>0.45</td>\n",
       "      <td>-383.0310</td>\n",
       "    </tr>\n",
       "    <tr>\n",
       "      <th>4</th>\n",
       "      <td>5</td>\n",
       "      <td>US-2017-108966</td>\n",
       "      <td>10/11/2017</td>\n",
       "      <td>10/18/2017</td>\n",
       "      <td>Standard Class</td>\n",
       "      <td>SO-20335</td>\n",
       "      <td>Sean O'Donnell</td>\n",
       "      <td>Consumer</td>\n",
       "      <td>United States</td>\n",
       "      <td>Fort Lauderdale</td>\n",
       "      <td>...</td>\n",
       "      <td>33311.0</td>\n",
       "      <td>South</td>\n",
       "      <td>OFF-ST-10000760</td>\n",
       "      <td>Office Supplies</td>\n",
       "      <td>Storage</td>\n",
       "      <td>Eldon Fold 'N Roll Cart System</td>\n",
       "      <td>22.3680</td>\n",
       "      <td>2</td>\n",
       "      <td>0.20</td>\n",
       "      <td>2.5164</td>\n",
       "    </tr>\n",
       "    <tr>\n",
       "      <th>...</th>\n",
       "      <td>...</td>\n",
       "      <td>...</td>\n",
       "      <td>...</td>\n",
       "      <td>...</td>\n",
       "      <td>...</td>\n",
       "      <td>...</td>\n",
       "      <td>...</td>\n",
       "      <td>...</td>\n",
       "      <td>...</td>\n",
       "      <td>...</td>\n",
       "      <td>...</td>\n",
       "      <td>...</td>\n",
       "      <td>...</td>\n",
       "      <td>...</td>\n",
       "      <td>...</td>\n",
       "      <td>...</td>\n",
       "      <td>...</td>\n",
       "      <td>...</td>\n",
       "      <td>...</td>\n",
       "      <td>...</td>\n",
       "      <td>...</td>\n",
       "    </tr>\n",
       "    <tr>\n",
       "      <th>9989</th>\n",
       "      <td>9990</td>\n",
       "      <td>CA-2016-110422</td>\n",
       "      <td>1/21/2016</td>\n",
       "      <td>1/23/2016</td>\n",
       "      <td>Second Class</td>\n",
       "      <td>TB-21400</td>\n",
       "      <td>Tom Boeckenhauer</td>\n",
       "      <td>Consumer</td>\n",
       "      <td>United States</td>\n",
       "      <td>Miami</td>\n",
       "      <td>...</td>\n",
       "      <td>33180.0</td>\n",
       "      <td>South</td>\n",
       "      <td>FUR-FU-10001889</td>\n",
       "      <td>Furniture</td>\n",
       "      <td>Furnishings</td>\n",
       "      <td>Ultra Door Pull Handle</td>\n",
       "      <td>25.2480</td>\n",
       "      <td>3</td>\n",
       "      <td>0.20</td>\n",
       "      <td>4.1028</td>\n",
       "    </tr>\n",
       "    <tr>\n",
       "      <th>9990</th>\n",
       "      <td>9991</td>\n",
       "      <td>CA-2019-121258</td>\n",
       "      <td>2/26/2019</td>\n",
       "      <td>3/3/2019</td>\n",
       "      <td>Standard Class</td>\n",
       "      <td>DB-13060</td>\n",
       "      <td>Dave Brooks</td>\n",
       "      <td>Consumer</td>\n",
       "      <td>United States</td>\n",
       "      <td>Costa Mesa</td>\n",
       "      <td>...</td>\n",
       "      <td>92627.0</td>\n",
       "      <td>West</td>\n",
       "      <td>FUR-FU-10000747</td>\n",
       "      <td>Furniture</td>\n",
       "      <td>Furnishings</td>\n",
       "      <td>Tenex B1-RE Series Chair Mats for Low Pile Car...</td>\n",
       "      <td>91.9600</td>\n",
       "      <td>2</td>\n",
       "      <td>0.00</td>\n",
       "      <td>15.6332</td>\n",
       "    </tr>\n",
       "    <tr>\n",
       "      <th>9991</th>\n",
       "      <td>9992</td>\n",
       "      <td>CA-2019-121258</td>\n",
       "      <td>2/26/2019</td>\n",
       "      <td>3/3/2019</td>\n",
       "      <td>Standard Class</td>\n",
       "      <td>DB-13060</td>\n",
       "      <td>Dave Brooks</td>\n",
       "      <td>Consumer</td>\n",
       "      <td>United States</td>\n",
       "      <td>Costa Mesa</td>\n",
       "      <td>...</td>\n",
       "      <td>92627.0</td>\n",
       "      <td>West</td>\n",
       "      <td>TEC-PH-10003645</td>\n",
       "      <td>Technology</td>\n",
       "      <td>Phones</td>\n",
       "      <td>Aastra 57i VoIP phone</td>\n",
       "      <td>258.5760</td>\n",
       "      <td>2</td>\n",
       "      <td>0.20</td>\n",
       "      <td>19.3932</td>\n",
       "    </tr>\n",
       "    <tr>\n",
       "      <th>9992</th>\n",
       "      <td>9993</td>\n",
       "      <td>CA-2019-121258</td>\n",
       "      <td>2/26/2019</td>\n",
       "      <td>3/3/2019</td>\n",
       "      <td>Standard Class</td>\n",
       "      <td>DB-13060</td>\n",
       "      <td>Dave Brooks</td>\n",
       "      <td>Consumer</td>\n",
       "      <td>United States</td>\n",
       "      <td>Costa Mesa</td>\n",
       "      <td>...</td>\n",
       "      <td>92627.0</td>\n",
       "      <td>West</td>\n",
       "      <td>OFF-PA-10004041</td>\n",
       "      <td>Office Supplies</td>\n",
       "      <td>Paper</td>\n",
       "      <td>It's Hot Message Books with Stickers, 2 3/4\" x 5\"</td>\n",
       "      <td>29.6000</td>\n",
       "      <td>4</td>\n",
       "      <td>0.00</td>\n",
       "      <td>13.3200</td>\n",
       "    </tr>\n",
       "    <tr>\n",
       "      <th>9993</th>\n",
       "      <td>9994</td>\n",
       "      <td>CA-2019-119914</td>\n",
       "      <td>5/4/2019</td>\n",
       "      <td>5/9/2019</td>\n",
       "      <td>Second Class</td>\n",
       "      <td>CC-12220</td>\n",
       "      <td>Chris Cortes</td>\n",
       "      <td>Consumer</td>\n",
       "      <td>United States</td>\n",
       "      <td>Westminster</td>\n",
       "      <td>...</td>\n",
       "      <td>92683.0</td>\n",
       "      <td>West</td>\n",
       "      <td>OFF-AP-10002684</td>\n",
       "      <td>Office Supplies</td>\n",
       "      <td>Appliances</td>\n",
       "      <td>Acco 7-Outlet Masterpiece Power Center, Wihtou...</td>\n",
       "      <td>243.1600</td>\n",
       "      <td>2</td>\n",
       "      <td>0.00</td>\n",
       "      <td>72.9480</td>\n",
       "    </tr>\n",
       "  </tbody>\n",
       "</table>\n",
       "<p>9994 rows × 21 columns</p>\n",
       "</div>"
      ],
      "text/plain": [
       "      Row ID        Order ID  Order Date   Ship Date       Ship Mode  \\\n",
       "0          1  CA-2018-152156   11/8/2018  11/11/2018    Second Class   \n",
       "1          2  CA-2018-152156   11/8/2018  11/11/2018    Second Class   \n",
       "2          3  CA-2018-138688   6/12/2018   6/16/2018    Second Class   \n",
       "3          4  US-2017-108966  10/11/2017  10/18/2017  Standard Class   \n",
       "4          5  US-2017-108966  10/11/2017  10/18/2017  Standard Class   \n",
       "...      ...             ...         ...         ...             ...   \n",
       "9989    9990  CA-2016-110422   1/21/2016   1/23/2016    Second Class   \n",
       "9990    9991  CA-2019-121258   2/26/2019    3/3/2019  Standard Class   \n",
       "9991    9992  CA-2019-121258   2/26/2019    3/3/2019  Standard Class   \n",
       "9992    9993  CA-2019-121258   2/26/2019    3/3/2019  Standard Class   \n",
       "9993    9994  CA-2019-119914    5/4/2019    5/9/2019    Second Class   \n",
       "\n",
       "     Customer ID     Customer Name    Segment Country/Region             City  \\\n",
       "0       CG-12520       Claire Gute   Consumer  United States        Henderson   \n",
       "1       CG-12520       Claire Gute   Consumer  United States        Henderson   \n",
       "2       DV-13045   Darrin Van Huff  Corporate  United States      Los Angeles   \n",
       "3       SO-20335    Sean O'Donnell   Consumer  United States  Fort Lauderdale   \n",
       "4       SO-20335    Sean O'Donnell   Consumer  United States  Fort Lauderdale   \n",
       "...          ...               ...        ...            ...              ...   \n",
       "9989    TB-21400  Tom Boeckenhauer   Consumer  United States            Miami   \n",
       "9990    DB-13060       Dave Brooks   Consumer  United States       Costa Mesa   \n",
       "9991    DB-13060       Dave Brooks   Consumer  United States       Costa Mesa   \n",
       "9992    DB-13060       Dave Brooks   Consumer  United States       Costa Mesa   \n",
       "9993    CC-12220      Chris Cortes   Consumer  United States      Westminster   \n",
       "\n",
       "      ... Postal Code  Region       Product ID         Category Sub-Category  \\\n",
       "0     ...     42420.0   South  FUR-BO-10001798        Furniture    Bookcases   \n",
       "1     ...     42420.0   South  FUR-CH-10000454        Furniture       Chairs   \n",
       "2     ...     90036.0    West  OFF-LA-10000240  Office Supplies       Labels   \n",
       "3     ...     33311.0   South  FUR-TA-10000577        Furniture       Tables   \n",
       "4     ...     33311.0   South  OFF-ST-10000760  Office Supplies      Storage   \n",
       "...   ...         ...     ...              ...              ...          ...   \n",
       "9989  ...     33180.0   South  FUR-FU-10001889        Furniture  Furnishings   \n",
       "9990  ...     92627.0    West  FUR-FU-10000747        Furniture  Furnishings   \n",
       "9991  ...     92627.0    West  TEC-PH-10003645       Technology       Phones   \n",
       "9992  ...     92627.0    West  OFF-PA-10004041  Office Supplies        Paper   \n",
       "9993  ...     92683.0    West  OFF-AP-10002684  Office Supplies   Appliances   \n",
       "\n",
       "                                           Product Name     Sales  Quantity  \\\n",
       "0                     Bush Somerset Collection Bookcase  261.9600         2   \n",
       "1     Hon Deluxe Fabric Upholstered Stacking Chairs,...  731.9400         3   \n",
       "2     Self-Adhesive Address Labels for Typewriters b...   14.6200         2   \n",
       "3         Bretford CR4500 Series Slim Rectangular Table  957.5775         5   \n",
       "4                        Eldon Fold 'N Roll Cart System   22.3680         2   \n",
       "...                                                 ...       ...       ...   \n",
       "9989                             Ultra Door Pull Handle   25.2480         3   \n",
       "9990  Tenex B1-RE Series Chair Mats for Low Pile Car...   91.9600         2   \n",
       "9991                              Aastra 57i VoIP phone  258.5760         2   \n",
       "9992  It's Hot Message Books with Stickers, 2 3/4\" x 5\"   29.6000         4   \n",
       "9993  Acco 7-Outlet Masterpiece Power Center, Wihtou...  243.1600         2   \n",
       "\n",
       "      Discount    Profit  \n",
       "0         0.00   41.9136  \n",
       "1         0.00  219.5820  \n",
       "2         0.00    6.8714  \n",
       "3         0.45 -383.0310  \n",
       "4         0.20    2.5164  \n",
       "...        ...       ...  \n",
       "9989      0.20    4.1028  \n",
       "9990      0.00   15.6332  \n",
       "9991      0.20   19.3932  \n",
       "9992      0.00   13.3200  \n",
       "9993      0.00   72.9480  \n",
       "\n",
       "[9994 rows x 21 columns]"
      ]
     },
     "execution_count": 385,
     "metadata": {},
     "output_type": "execute_result"
    }
   ],
   "source": [
    "store"
   ]
  },
  {
   "cell_type": "markdown",
   "id": "4c0d8290",
   "metadata": {},
   "source": [
    "# Understading The Data Set"
   ]
  },
  {
   "cell_type": "code",
   "execution_count": 386,
   "id": "8df2d1c8",
   "metadata": {},
   "outputs": [
    {
     "name": "stdout",
     "output_type": "stream",
     "text": [
      "<class 'pandas.core.frame.DataFrame'>\n",
      "RangeIndex: 9994 entries, 0 to 9993\n",
      "Data columns (total 21 columns):\n",
      " #   Column          Non-Null Count  Dtype  \n",
      "---  ------          --------------  -----  \n",
      " 0   Row ID          9994 non-null   int64  \n",
      " 1   Order ID        9994 non-null   object \n",
      " 2   Order Date      9994 non-null   object \n",
      " 3   Ship Date       9994 non-null   object \n",
      " 4   Ship Mode       9994 non-null   object \n",
      " 5   Customer ID     9994 non-null   object \n",
      " 6   Customer Name   9994 non-null   object \n",
      " 7   Segment         9994 non-null   object \n",
      " 8   Country/Region  9994 non-null   object \n",
      " 9   City            9994 non-null   object \n",
      " 10  State           9994 non-null   object \n",
      " 11  Postal Code     9983 non-null   float64\n",
      " 12  Region          9994 non-null   object \n",
      " 13  Product ID      9994 non-null   object \n",
      " 14  Category        9994 non-null   object \n",
      " 15  Sub-Category    9994 non-null   object \n",
      " 16  Product Name    9994 non-null   object \n",
      " 17  Sales           9994 non-null   float64\n",
      " 18  Quantity        9994 non-null   int64  \n",
      " 19  Discount        9994 non-null   float64\n",
      " 20  Profit          9994 non-null   float64\n",
      "dtypes: float64(4), int64(2), object(15)\n",
      "memory usage: 1.6+ MB\n"
     ]
    }
   ],
   "source": [
    "store.info()"
   ]
  },
  {
   "cell_type": "code",
   "execution_count": 387,
   "id": "cab9331c",
   "metadata": {},
   "outputs": [
    {
     "data": {
      "text/plain": [
       "array(['Furniture', 'Office Supplies', 'Technology'], dtype=object)"
      ]
     },
     "execution_count": 387,
     "metadata": {},
     "output_type": "execute_result"
    }
   ],
   "source": [
    "store['Category'].unique()"
   ]
  },
  {
   "cell_type": "code",
   "execution_count": 388,
   "id": "53679f2d",
   "metadata": {},
   "outputs": [
    {
     "data": {
      "text/html": [
       "<div>\n",
       "<style scoped>\n",
       "    .dataframe tbody tr th:only-of-type {\n",
       "        vertical-align: middle;\n",
       "    }\n",
       "\n",
       "    .dataframe tbody tr th {\n",
       "        vertical-align: top;\n",
       "    }\n",
       "\n",
       "    .dataframe thead th {\n",
       "        text-align: right;\n",
       "    }\n",
       "</style>\n",
       "<table border=\"1\" class=\"dataframe\">\n",
       "  <thead>\n",
       "    <tr style=\"text-align: right;\">\n",
       "      <th></th>\n",
       "      <th>Row ID</th>\n",
       "      <th>Postal Code</th>\n",
       "      <th>Sales</th>\n",
       "      <th>Quantity</th>\n",
       "      <th>Discount</th>\n",
       "      <th>Profit</th>\n",
       "    </tr>\n",
       "  </thead>\n",
       "  <tbody>\n",
       "    <tr>\n",
       "      <th>count</th>\n",
       "      <td>9994</td>\n",
       "      <td>9983</td>\n",
       "      <td>9994</td>\n",
       "      <td>9994</td>\n",
       "      <td>9994</td>\n",
       "      <td>9994</td>\n",
       "    </tr>\n",
       "    <tr>\n",
       "      <th>mean</th>\n",
       "      <td>4997</td>\n",
       "      <td>55245</td>\n",
       "      <td>229</td>\n",
       "      <td>3</td>\n",
       "      <td>0</td>\n",
       "      <td>28</td>\n",
       "    </tr>\n",
       "    <tr>\n",
       "      <th>std</th>\n",
       "      <td>2885</td>\n",
       "      <td>32038</td>\n",
       "      <td>623</td>\n",
       "      <td>2</td>\n",
       "      <td>0</td>\n",
       "      <td>234</td>\n",
       "    </tr>\n",
       "    <tr>\n",
       "      <th>min</th>\n",
       "      <td>1</td>\n",
       "      <td>1040</td>\n",
       "      <td>0</td>\n",
       "      <td>1</td>\n",
       "      <td>0</td>\n",
       "      <td>-6599</td>\n",
       "    </tr>\n",
       "    <tr>\n",
       "      <th>25%</th>\n",
       "      <td>2499</td>\n",
       "      <td>23223</td>\n",
       "      <td>17</td>\n",
       "      <td>2</td>\n",
       "      <td>0</td>\n",
       "      <td>1</td>\n",
       "    </tr>\n",
       "    <tr>\n",
       "      <th>50%</th>\n",
       "      <td>4997</td>\n",
       "      <td>57103</td>\n",
       "      <td>54</td>\n",
       "      <td>3</td>\n",
       "      <td>0</td>\n",
       "      <td>8</td>\n",
       "    </tr>\n",
       "    <tr>\n",
       "      <th>75%</th>\n",
       "      <td>7495</td>\n",
       "      <td>90008</td>\n",
       "      <td>209</td>\n",
       "      <td>5</td>\n",
       "      <td>0</td>\n",
       "      <td>29</td>\n",
       "    </tr>\n",
       "    <tr>\n",
       "      <th>max</th>\n",
       "      <td>9994</td>\n",
       "      <td>99301</td>\n",
       "      <td>22638</td>\n",
       "      <td>14</td>\n",
       "      <td>0</td>\n",
       "      <td>8399</td>\n",
       "    </tr>\n",
       "  </tbody>\n",
       "</table>\n",
       "</div>"
      ],
      "text/plain": [
       "       Row ID  Postal Code  Sales  Quantity  Discount  Profit\n",
       "count    9994         9983   9994      9994      9994    9994\n",
       "mean     4997        55245    229         3         0      28\n",
       "std      2885        32038    623         2         0     234\n",
       "min         1         1040      0         1         0   -6599\n",
       "25%      2499        23223     17         2         0       1\n",
       "50%      4997        57103     54         3         0       8\n",
       "75%      7495        90008    209         5         0      29\n",
       "max      9994        99301  22638        14         0    8399"
      ]
     },
     "execution_count": 388,
     "metadata": {},
     "output_type": "execute_result"
    }
   ],
   "source": [
    "store.describe().astype(int)"
   ]
  },
  {
   "cell_type": "code",
   "execution_count": 389,
   "id": "e074ab58",
   "metadata": {},
   "outputs": [
    {
     "data": {
      "text/plain": [
       "Row ID             0\n",
       "Order ID           0\n",
       "Order Date         0\n",
       "Ship Date          0\n",
       "Ship Mode          0\n",
       "Customer ID        0\n",
       "Customer Name      0\n",
       "Segment            0\n",
       "Country/Region     0\n",
       "City               0\n",
       "State              0\n",
       "Postal Code       11\n",
       "Region             0\n",
       "Product ID         0\n",
       "Category           0\n",
       "Sub-Category       0\n",
       "Product Name       0\n",
       "Sales              0\n",
       "Quantity           0\n",
       "Discount           0\n",
       "Profit             0\n",
       "dtype: int64"
      ]
     },
     "execution_count": 389,
     "metadata": {},
     "output_type": "execute_result"
    }
   ],
   "source": [
    "store.isna().sum()"
   ]
  },
  {
   "cell_type": "markdown",
   "id": "546aca0f",
   "metadata": {},
   "source": [
    "# Cleaning and Manipulating Data"
   ]
  },
  {
   "cell_type": "code",
   "execution_count": 390,
   "id": "0942de60",
   "metadata": {},
   "outputs": [],
   "source": [
    "data=store[store['Postal Code'].notna()]"
   ]
  },
  {
   "cell_type": "code",
   "execution_count": 391,
   "id": "3b854da3",
   "metadata": {},
   "outputs": [
    {
     "data": {
      "text/html": [
       "<div>\n",
       "<style scoped>\n",
       "    .dataframe tbody tr th:only-of-type {\n",
       "        vertical-align: middle;\n",
       "    }\n",
       "\n",
       "    .dataframe tbody tr th {\n",
       "        vertical-align: top;\n",
       "    }\n",
       "\n",
       "    .dataframe thead th {\n",
       "        text-align: right;\n",
       "    }\n",
       "</style>\n",
       "<table border=\"1\" class=\"dataframe\">\n",
       "  <thead>\n",
       "    <tr style=\"text-align: right;\">\n",
       "      <th></th>\n",
       "      <th>Row ID</th>\n",
       "      <th>Order ID</th>\n",
       "      <th>Order Date</th>\n",
       "      <th>Ship Date</th>\n",
       "      <th>Ship Mode</th>\n",
       "      <th>Customer ID</th>\n",
       "      <th>Customer Name</th>\n",
       "      <th>Segment</th>\n",
       "      <th>Country/Region</th>\n",
       "      <th>City</th>\n",
       "      <th>...</th>\n",
       "      <th>Postal Code</th>\n",
       "      <th>Region</th>\n",
       "      <th>Product ID</th>\n",
       "      <th>Category</th>\n",
       "      <th>Sub-Category</th>\n",
       "      <th>Product Name</th>\n",
       "      <th>Sales</th>\n",
       "      <th>Quantity</th>\n",
       "      <th>Discount</th>\n",
       "      <th>Profit</th>\n",
       "    </tr>\n",
       "  </thead>\n",
       "  <tbody>\n",
       "    <tr>\n",
       "      <th>0</th>\n",
       "      <td>1</td>\n",
       "      <td>CA-2018-152156</td>\n",
       "      <td>11/8/2018</td>\n",
       "      <td>11/11/2018</td>\n",
       "      <td>Second Class</td>\n",
       "      <td>CG-12520</td>\n",
       "      <td>Claire Gute</td>\n",
       "      <td>Consumer</td>\n",
       "      <td>United States</td>\n",
       "      <td>Henderson</td>\n",
       "      <td>...</td>\n",
       "      <td>42420.0</td>\n",
       "      <td>South</td>\n",
       "      <td>FUR-BO-10001798</td>\n",
       "      <td>Furniture</td>\n",
       "      <td>Bookcases</td>\n",
       "      <td>Bush Somerset Collection Bookcase</td>\n",
       "      <td>261.96</td>\n",
       "      <td>2</td>\n",
       "      <td>0.0</td>\n",
       "      <td>41.9136</td>\n",
       "    </tr>\n",
       "    <tr>\n",
       "      <th>1</th>\n",
       "      <td>2</td>\n",
       "      <td>CA-2018-152156</td>\n",
       "      <td>11/8/2018</td>\n",
       "      <td>11/11/2018</td>\n",
       "      <td>Second Class</td>\n",
       "      <td>CG-12520</td>\n",
       "      <td>Claire Gute</td>\n",
       "      <td>Consumer</td>\n",
       "      <td>United States</td>\n",
       "      <td>Henderson</td>\n",
       "      <td>...</td>\n",
       "      <td>42420.0</td>\n",
       "      <td>South</td>\n",
       "      <td>FUR-CH-10000454</td>\n",
       "      <td>Furniture</td>\n",
       "      <td>Chairs</td>\n",
       "      <td>Hon Deluxe Fabric Upholstered Stacking Chairs,...</td>\n",
       "      <td>731.94</td>\n",
       "      <td>3</td>\n",
       "      <td>0.0</td>\n",
       "      <td>219.5820</td>\n",
       "    </tr>\n",
       "  </tbody>\n",
       "</table>\n",
       "<p>2 rows × 21 columns</p>\n",
       "</div>"
      ],
      "text/plain": [
       "   Row ID        Order ID Order Date   Ship Date     Ship Mode Customer ID  \\\n",
       "0       1  CA-2018-152156  11/8/2018  11/11/2018  Second Class    CG-12520   \n",
       "1       2  CA-2018-152156  11/8/2018  11/11/2018  Second Class    CG-12520   \n",
       "\n",
       "  Customer Name   Segment Country/Region       City  ... Postal Code  Region  \\\n",
       "0   Claire Gute  Consumer  United States  Henderson  ...     42420.0   South   \n",
       "1   Claire Gute  Consumer  United States  Henderson  ...     42420.0   South   \n",
       "\n",
       "        Product ID   Category Sub-Category  \\\n",
       "0  FUR-BO-10001798  Furniture    Bookcases   \n",
       "1  FUR-CH-10000454  Furniture       Chairs   \n",
       "\n",
       "                                        Product Name   Sales  Quantity  \\\n",
       "0                  Bush Somerset Collection Bookcase  261.96         2   \n",
       "1  Hon Deluxe Fabric Upholstered Stacking Chairs,...  731.94         3   \n",
       "\n",
       "   Discount    Profit  \n",
       "0       0.0   41.9136  \n",
       "1       0.0  219.5820  \n",
       "\n",
       "[2 rows x 21 columns]"
      ]
     },
     "execution_count": 391,
     "metadata": {},
     "output_type": "execute_result"
    }
   ],
   "source": [
    "data.head(2)"
   ]
  },
  {
   "cell_type": "code",
   "execution_count": 392,
   "id": "31a9d89e",
   "metadata": {},
   "outputs": [
    {
     "data": {
      "text/plain": [
       "Row ID            0\n",
       "Order ID          0\n",
       "Order Date        0\n",
       "Ship Date         0\n",
       "Ship Mode         0\n",
       "Customer ID       0\n",
       "Customer Name     0\n",
       "Segment           0\n",
       "Country/Region    0\n",
       "City              0\n",
       "State             0\n",
       "Postal Code       0\n",
       "Region            0\n",
       "Product ID        0\n",
       "Category          0\n",
       "Sub-Category      0\n",
       "Product Name      0\n",
       "Sales             0\n",
       "Quantity          0\n",
       "Discount          0\n",
       "Profit            0\n",
       "dtype: int64"
      ]
     },
     "execution_count": 392,
     "metadata": {},
     "output_type": "execute_result"
    }
   ],
   "source": [
    "data.isna().sum()"
   ]
  },
  {
   "cell_type": "code",
   "execution_count": 393,
   "id": "6a2043c1",
   "metadata": {},
   "outputs": [
    {
     "name": "stderr",
     "output_type": "stream",
     "text": [
      "C:\\Users\\YAKUBI~1\\AppData\\Local\\Temp/ipykernel_128/1903401126.py:1: SettingWithCopyWarning: \n",
      "A value is trying to be set on a copy of a slice from a DataFrame.\n",
      "Try using .loc[row_indexer,col_indexer] = value instead\n",
      "\n",
      "See the caveats in the documentation: https://pandas.pydata.org/pandas-docs/stable/user_guide/indexing.html#returning-a-view-versus-a-copy\n",
      "  data['Order Date'] =pd.to_datetime(data['Order Date'])\n"
     ]
    }
   ],
   "source": [
    "data['Order Date'] =pd.to_datetime(data['Order Date'])"
   ]
  },
  {
   "cell_type": "code",
   "execution_count": 394,
   "id": "ad1b3ada",
   "metadata": {},
   "outputs": [
    {
     "name": "stderr",
     "output_type": "stream",
     "text": [
      "C:\\Users\\YAKUBI~1\\AppData\\Local\\Temp/ipykernel_128/1360154561.py:1: SettingWithCopyWarning: \n",
      "A value is trying to be set on a copy of a slice from a DataFrame.\n",
      "Try using .loc[row_indexer,col_indexer] = value instead\n",
      "\n",
      "See the caveats in the documentation: https://pandas.pydata.org/pandas-docs/stable/user_guide/indexing.html#returning-a-view-versus-a-copy\n",
      "  data['Ship Date'] =pd.to_datetime(data['Ship Date'])\n"
     ]
    }
   ],
   "source": [
    "data['Ship Date'] =pd.to_datetime(data['Ship Date'])"
   ]
  },
  {
   "cell_type": "code",
   "execution_count": 395,
   "id": "c749e9d9",
   "metadata": {},
   "outputs": [
    {
     "name": "stdout",
     "output_type": "stream",
     "text": [
      "<class 'pandas.core.frame.DataFrame'>\n",
      "Int64Index: 9983 entries, 0 to 9993\n",
      "Data columns (total 21 columns):\n",
      " #   Column          Non-Null Count  Dtype         \n",
      "---  ------          --------------  -----         \n",
      " 0   Row ID          9983 non-null   int64         \n",
      " 1   Order ID        9983 non-null   object        \n",
      " 2   Order Date      9983 non-null   datetime64[ns]\n",
      " 3   Ship Date       9983 non-null   datetime64[ns]\n",
      " 4   Ship Mode       9983 non-null   object        \n",
      " 5   Customer ID     9983 non-null   object        \n",
      " 6   Customer Name   9983 non-null   object        \n",
      " 7   Segment         9983 non-null   object        \n",
      " 8   Country/Region  9983 non-null   object        \n",
      " 9   City            9983 non-null   object        \n",
      " 10  State           9983 non-null   object        \n",
      " 11  Postal Code     9983 non-null   float64       \n",
      " 12  Region          9983 non-null   object        \n",
      " 13  Product ID      9983 non-null   object        \n",
      " 14  Category        9983 non-null   object        \n",
      " 15  Sub-Category    9983 non-null   object        \n",
      " 16  Product Name    9983 non-null   object        \n",
      " 17  Sales           9983 non-null   float64       \n",
      " 18  Quantity        9983 non-null   int64         \n",
      " 19  Discount        9983 non-null   float64       \n",
      " 20  Profit          9983 non-null   float64       \n",
      "dtypes: datetime64[ns](2), float64(4), int64(2), object(13)\n",
      "memory usage: 1.7+ MB\n"
     ]
    }
   ],
   "source": [
    "data.info()"
   ]
  },
  {
   "cell_type": "code",
   "execution_count": 396,
   "id": "e6049d66",
   "metadata": {},
   "outputs": [
    {
     "data": {
      "text/plain": [
       "Category\n",
       "Furniture          736879\n",
       "Office Supplies    716837\n",
       "Technology         834554\n",
       "Name: Sales, dtype: int32"
      ]
     },
     "execution_count": 396,
     "metadata": {},
     "output_type": "execute_result"
    }
   ],
   "source": [
    "value=data.groupby(['Category'])['Sales'].sum().astype(int)\n",
    "value"
   ]
  },
  {
   "cell_type": "code",
   "execution_count": 397,
   "id": "98c71a8c",
   "metadata": {},
   "outputs": [
    {
     "data": {
      "text/plain": [
       "2288271"
      ]
     },
     "execution_count": 397,
     "metadata": {},
     "output_type": "execute_result"
    }
   ],
   "source": [
    "total= data.Sales.sum().astype(int)\n",
    "total"
   ]
  },
  {
   "cell_type": "code",
   "execution_count": 403,
   "id": "6f5e15c8",
   "metadata": {},
   "outputs": [
    {
     "data": {
      "text/plain": [
       "Category\n",
       "Furniture          32\n",
       "Office Supplies    31\n",
       "Technology         36\n",
       "Name: Sales, dtype: int32"
      ]
     },
     "execution_count": 403,
     "metadata": {},
     "output_type": "execute_result"
    }
   ],
   "source": [
    "percent_diff=((value/total)*100).astype(int)\n",
    "percent_diff"
   ]
  },
  {
   "cell_type": "code",
   "execution_count": 404,
   "id": "706aa2c7",
   "metadata": {},
   "outputs": [
    {
     "data": {
      "text/plain": [
       "Region\n",
       "Central    501239\n",
       "East       669851\n",
       "South      391721\n",
       "West       725457\n",
       "Name: Sales, dtype: int32"
      ]
     },
     "execution_count": 404,
     "metadata": {},
     "output_type": "execute_result"
    }
   ],
   "source": [
    "valueR=data.groupby(['Region'])['Sales'].sum().astype(int)\n",
    "valueR"
   ]
  },
  {
   "cell_type": "code",
   "execution_count": 405,
   "id": "4d834e88",
   "metadata": {},
   "outputs": [
    {
     "data": {
      "text/plain": [
       "Region\n",
       "Central    21\n",
       "East       29\n",
       "South      17\n",
       "West       31\n",
       "Name: Sales, dtype: int32"
      ]
     },
     "execution_count": 405,
     "metadata": {},
     "output_type": "execute_result"
    }
   ],
   "source": [
    "region_percent=((valueR/total)*100).astype(int)\n",
    "region_percent"
   ]
  },
  {
   "cell_type": "markdown",
   "id": "b94bca0f",
   "metadata": {},
   "source": [
    "# Calculating Recency"
   ]
  },
  {
   "cell_type": "code",
   "execution_count": 406,
   "id": "eb057266",
   "metadata": {},
   "outputs": [
    {
     "data": {
      "text/plain": [
       "Timestamp('2019-12-30 00:00:00')"
      ]
     },
     "execution_count": 406,
     "metadata": {},
     "output_type": "execute_result"
    }
   ],
   "source": [
    "data['Order Date'].max()"
   ]
  },
  {
   "cell_type": "code",
   "execution_count": 407,
   "id": "5c8e107f",
   "metadata": {
    "scrolled": true
   },
   "outputs": [
    {
     "data": {
      "text/plain": [
       "Customer ID\n",
       "AA-10315   2019-06-29\n",
       "AA-10375   2019-12-11\n",
       "AA-10480   2019-04-15\n",
       "AA-10645   2019-11-05\n",
       "AB-10015   2018-11-10\n",
       "              ...    \n",
       "XP-21865   2019-11-17\n",
       "YC-21895   2019-12-26\n",
       "YS-21880   2019-12-21\n",
       "ZC-21910   2019-11-06\n",
       "ZD-21925   2019-06-11\n",
       "Name: Order Date, Length: 793, dtype: datetime64[ns]"
      ]
     },
     "execution_count": 407,
     "metadata": {},
     "output_type": "execute_result"
    }
   ],
   "source": [
    "data.groupby(['Customer ID'])['Order Date'].max()"
   ]
  },
  {
   "cell_type": "code",
   "execution_count": 408,
   "id": "4a530de4",
   "metadata": {},
   "outputs": [
    {
     "data": {
      "text/plain": [
       "Customer ID\n",
       "JM-15580   2019-12-30\n",
       "EB-13975   2019-12-30\n",
       "PO-18865   2019-12-30\n",
       "CC-12430   2019-12-30\n",
       "JG-15160   2019-12-29\n",
       "              ...    \n",
       "VT-21700   2017-04-05\n",
       "CM-12715   2017-03-01\n",
       "RE-19405   2016-12-29\n",
       "GR-14560   2016-11-21\n",
       "NB-18580   2016-10-22\n",
       "Name: Order Date, Length: 793, dtype: datetime64[ns]"
      ]
     },
     "execution_count": 408,
     "metadata": {},
     "output_type": "execute_result"
    }
   ],
   "source": [
    "data.groupby(['Customer ID'])['Order Date'].max().sort_values(ascending=False) "
   ]
  },
  {
   "cell_type": "code",
   "execution_count": 409,
   "id": "71fca5f2",
   "metadata": {},
   "outputs": [
    {
     "data": {
      "text/plain": [
       "Customer ID\n",
       "JM-15580   2019-12-30\n",
       "EB-13975   2019-12-30\n",
       "PO-18865   2019-12-30\n",
       "CC-12430   2019-12-30\n",
       "JG-15160   2019-12-29\n",
       "KH-16360   2019-12-29\n",
       "MC-17845   2019-12-29\n",
       "KB-16600   2019-12-29\n",
       "BP-11185   2019-12-29\n",
       "BS-11755   2019-12-29\n",
       "Name: Order Date, dtype: datetime64[ns]"
      ]
     },
     "execution_count": 409,
     "metadata": {},
     "output_type": "execute_result"
    }
   ],
   "source": [
    "data.groupby(['Customer ID'])['Order Date'].max().sort_values(ascending=False)[:10]"
   ]
  },
  {
   "cell_type": "code",
   "execution_count": 410,
   "id": "898aa1c9",
   "metadata": {},
   "outputs": [
    {
     "data": {
      "text/plain": [
       "Customer ID\n",
       "AA-10315   2019-06-29\n",
       "AA-10375   2019-12-11\n",
       "AA-10480   2019-04-15\n",
       "AA-10645   2019-11-05\n",
       "AB-10015   2018-11-10\n",
       "Name: Order Date, dtype: datetime64[ns]"
      ]
     },
     "execution_count": 410,
     "metadata": {},
     "output_type": "execute_result"
    }
   ],
   "source": [
    "recency = data.groupby(['Customer ID'])['Order Date'].max()\n",
    "recency.head()"
   ]
  },
  {
   "cell_type": "code",
   "execution_count": 411,
   "id": "a7b5fc2a",
   "metadata": {},
   "outputs": [],
   "source": [
    "recency = recency-data['Order Date'].max()"
   ]
  },
  {
   "cell_type": "code",
   "execution_count": 412,
   "id": "e67f9e48",
   "metadata": {},
   "outputs": [
    {
     "data": {
      "text/plain": [
       "Customer ID\n",
       "AA-10315   -184 days\n",
       "AA-10375    -19 days\n",
       "AA-10480   -259 days\n",
       "Name: Order Date, dtype: timedelta64[ns]"
      ]
     },
     "execution_count": 412,
     "metadata": {},
     "output_type": "execute_result"
    }
   ],
   "source": [
    "recency.head(3)"
   ]
  },
  {
   "cell_type": "code",
   "execution_count": 413,
   "id": "2d4b8526",
   "metadata": {},
   "outputs": [],
   "source": [
    "recency = recency.dt.days"
   ]
  },
  {
   "cell_type": "code",
   "execution_count": 414,
   "id": "42b1c9b7",
   "metadata": {},
   "outputs": [
    {
     "data": {
      "text/plain": [
       "Customer ID\n",
       "AA-10315   -184\n",
       "AA-10375    -19\n",
       "AA-10480   -259\n",
       "AA-10645    -55\n",
       "AB-10015   -415\n",
       "Name: Recency, dtype: int64"
      ]
     },
     "execution_count": 414,
     "metadata": {},
     "output_type": "execute_result"
    }
   ],
   "source": [
    "recency = recency.rename('Recency')\n",
    "recency.head()"
   ]
  },
  {
   "cell_type": "code",
   "execution_count": 415,
   "id": "d229dd0b",
   "metadata": {},
   "outputs": [
    {
     "data": {
      "text/html": [
       "<div>\n",
       "<style scoped>\n",
       "    .dataframe tbody tr th:only-of-type {\n",
       "        vertical-align: middle;\n",
       "    }\n",
       "\n",
       "    .dataframe tbody tr th {\n",
       "        vertical-align: top;\n",
       "    }\n",
       "\n",
       "    .dataframe thead th {\n",
       "        text-align: right;\n",
       "    }\n",
       "</style>\n",
       "<table border=\"1\" class=\"dataframe\">\n",
       "  <thead>\n",
       "    <tr style=\"text-align: right;\">\n",
       "      <th></th>\n",
       "      <th>Recency</th>\n",
       "    </tr>\n",
       "    <tr>\n",
       "      <th>Customer ID</th>\n",
       "      <th></th>\n",
       "    </tr>\n",
       "  </thead>\n",
       "  <tbody>\n",
       "    <tr>\n",
       "      <th>AA-10315</th>\n",
       "      <td>-184</td>\n",
       "    </tr>\n",
       "    <tr>\n",
       "      <th>AA-10375</th>\n",
       "      <td>-19</td>\n",
       "    </tr>\n",
       "    <tr>\n",
       "      <th>AA-10480</th>\n",
       "      <td>-259</td>\n",
       "    </tr>\n",
       "  </tbody>\n",
       "</table>\n",
       "</div>"
      ],
      "text/plain": [
       "             Recency\n",
       "Customer ID         \n",
       "AA-10315        -184\n",
       "AA-10375         -19\n",
       "AA-10480        -259"
      ]
     },
     "execution_count": 415,
     "metadata": {},
     "output_type": "execute_result"
    }
   ],
   "source": [
    "RFM = pd.DataFrame(recency)\n",
    "RFM.head(3)"
   ]
  },
  {
   "cell_type": "code",
   "execution_count": 416,
   "id": "a3da347c",
   "metadata": {},
   "outputs": [
    {
     "data": {
      "text/html": [
       "<div>\n",
       "<style scoped>\n",
       "    .dataframe tbody tr th:only-of-type {\n",
       "        vertical-align: middle;\n",
       "    }\n",
       "\n",
       "    .dataframe tbody tr th {\n",
       "        vertical-align: top;\n",
       "    }\n",
       "\n",
       "    .dataframe thead th {\n",
       "        text-align: right;\n",
       "    }\n",
       "</style>\n",
       "<table border=\"1\" class=\"dataframe\">\n",
       "  <thead>\n",
       "    <tr style=\"text-align: right;\">\n",
       "      <th></th>\n",
       "      <th>Customer ID</th>\n",
       "      <th>Recency</th>\n",
       "    </tr>\n",
       "  </thead>\n",
       "  <tbody>\n",
       "    <tr>\n",
       "      <th>0</th>\n",
       "      <td>AA-10315</td>\n",
       "      <td>-184</td>\n",
       "    </tr>\n",
       "    <tr>\n",
       "      <th>1</th>\n",
       "      <td>AA-10375</td>\n",
       "      <td>-19</td>\n",
       "    </tr>\n",
       "  </tbody>\n",
       "</table>\n",
       "</div>"
      ],
      "text/plain": [
       "  Customer ID  Recency\n",
       "0    AA-10315     -184\n",
       "1    AA-10375      -19"
      ]
     },
     "execution_count": 416,
     "metadata": {},
     "output_type": "execute_result"
    }
   ],
   "source": [
    "RFM.reset_index(inplace=True)\n",
    "RFM.head(2)"
   ]
  },
  {
   "cell_type": "code",
   "execution_count": 417,
   "id": "d5b48ddc",
   "metadata": {},
   "outputs": [
    {
     "data": {
      "text/html": [
       "<div>\n",
       "<style scoped>\n",
       "    .dataframe tbody tr th:only-of-type {\n",
       "        vertical-align: middle;\n",
       "    }\n",
       "\n",
       "    .dataframe tbody tr th {\n",
       "        vertical-align: top;\n",
       "    }\n",
       "\n",
       "    .dataframe thead th {\n",
       "        text-align: right;\n",
       "    }\n",
       "</style>\n",
       "<table border=\"1\" class=\"dataframe\">\n",
       "  <thead>\n",
       "    <tr style=\"text-align: right;\">\n",
       "      <th></th>\n",
       "      <th>Recency</th>\n",
       "    </tr>\n",
       "  </thead>\n",
       "  <tbody>\n",
       "    <tr>\n",
       "      <th>count</th>\n",
       "      <td>793.000000</td>\n",
       "    </tr>\n",
       "    <tr>\n",
       "      <th>mean</th>\n",
       "      <td>-147.292560</td>\n",
       "    </tr>\n",
       "    <tr>\n",
       "      <th>std</th>\n",
       "      <td>186.465917</td>\n",
       "    </tr>\n",
       "    <tr>\n",
       "      <th>min</th>\n",
       "      <td>-1164.000000</td>\n",
       "    </tr>\n",
       "    <tr>\n",
       "      <th>25%</th>\n",
       "      <td>-183.000000</td>\n",
       "    </tr>\n",
       "    <tr>\n",
       "      <th>50%</th>\n",
       "      <td>-76.000000</td>\n",
       "    </tr>\n",
       "    <tr>\n",
       "      <th>75%</th>\n",
       "      <td>-30.000000</td>\n",
       "    </tr>\n",
       "    <tr>\n",
       "      <th>max</th>\n",
       "      <td>0.000000</td>\n",
       "    </tr>\n",
       "  </tbody>\n",
       "</table>\n",
       "</div>"
      ],
      "text/plain": [
       "           Recency\n",
       "count   793.000000\n",
       "mean   -147.292560\n",
       "std     186.465917\n",
       "min   -1164.000000\n",
       "25%    -183.000000\n",
       "50%     -76.000000\n",
       "75%     -30.000000\n",
       "max       0.000000"
      ]
     },
     "execution_count": 417,
     "metadata": {},
     "output_type": "execute_result"
    }
   ],
   "source": [
    "RFM.describe()"
   ]
  },
  {
   "cell_type": "code",
   "execution_count": 418,
   "id": "9737fbff",
   "metadata": {},
   "outputs": [
    {
     "data": {
      "image/png": "[encoded data removed]",
      "text/plain": [
       "<Figure size 432x288 with 1 Axes>"
      ]
     },
     "metadata": {
      "needs_background": "light"
     },
     "output_type": "display_data"
    }
   ],
   "source": [
    "sns.boxplot(y='Recency',data=RFM)\n",
    "\n",
    "plt.show()"
   ]
  },
  {
   "cell_type": "code",
   "execution_count": 419,
   "id": "d98039bb",
   "metadata": {},
   "outputs": [
    {
     "data": {
      "image/png": "[encoded data removed]",
      "text/plain": [
       "<Figure size 432x288 with 1 Axes>"
      ]
     },
     "metadata": {
      "needs_background": "light"
     },
     "output_type": "display_data"
    }
   ],
   "source": [
    "sns.histplot(data=RFM['Recency'])\n",
    "plt.title('Recency Distribution')\n",
    "\n",
    "plt.show()"
   ]
  },
  {
   "cell_type": "markdown",
   "id": "e4dfe129",
   "metadata": {},
   "source": [
    "# Calculating Frequency"
   ]
  },
  {
   "cell_type": "code",
   "execution_count": 420,
   "id": "19404e0c",
   "metadata": {},
   "outputs": [
    {
     "data": {
      "text/plain": [
       "<bound method NDFrame.head of Customer ID\n",
       "AA-10315    11\n",
       "AA-10375    15\n",
       "AA-10480    12\n",
       "AA-10645    18\n",
       "AB-10015     6\n",
       "            ..\n",
       "XP-21865    28\n",
       "YC-21895     8\n",
       "YS-21880    12\n",
       "ZC-21910    31\n",
       "ZD-21925     9\n",
       "Name: Customer ID, Length: 793, dtype: int64>"
      ]
     },
     "execution_count": 420,
     "metadata": {},
     "output_type": "execute_result"
    }
   ],
   "source": [
    "frequency=(data.groupby('Customer ID')['Customer ID'].count())\n",
    "frequency.head"
   ]
  },
  {
   "cell_type": "code",
   "execution_count": 421,
   "id": "db94735f",
   "metadata": {},
   "outputs": [
    {
     "data": {
      "text/plain": [
       "Customer ID\n",
       "WB-21850    37\n",
       "PP-18955    34\n",
       "JL-15835    34\n",
       "MA-17560    34\n",
       "SV-20365    32\n",
       "JD-15895    32\n",
       "CK-12205    32\n",
       "EH-13765    32\n",
       "EP-13915    31\n",
       "ZC-21910    31\n",
       "Name: Order Date, dtype: int64"
      ]
     },
     "execution_count": 421,
     "metadata": {},
     "output_type": "execute_result"
    }
   ],
   "source": [
    "(data.groupby('Customer ID')['Order Date'].count()).sort_values(ascending=False)[:10]\n"
   ]
  },
  {
   "cell_type": "code",
   "execution_count": 422,
   "id": "65bca796",
   "metadata": {},
   "outputs": [
    {
     "data": {
      "text/plain": [
       "Customer ID\n",
       "AA-10315    11\n",
       "AA-10375    15\n",
       "Name: Frequency, dtype: int64"
      ]
     },
     "execution_count": 422,
     "metadata": {},
     "output_type": "execute_result"
    }
   ],
   "source": [
    "frequency = frequency.rename('Frequency')\n",
    "frequency.head(2)"
   ]
  },
  {
   "cell_type": "code",
   "execution_count": 423,
   "id": "b4f31e4b",
   "metadata": {},
   "outputs": [
    {
     "data": {
      "text/html": [
       "<div>\n",
       "<style scoped>\n",
       "    .dataframe tbody tr th:only-of-type {\n",
       "        vertical-align: middle;\n",
       "    }\n",
       "\n",
       "    .dataframe tbody tr th {\n",
       "        vertical-align: top;\n",
       "    }\n",
       "\n",
       "    .dataframe thead th {\n",
       "        text-align: right;\n",
       "    }\n",
       "</style>\n",
       "<table border=\"1\" class=\"dataframe\">\n",
       "  <thead>\n",
       "    <tr style=\"text-align: right;\">\n",
       "      <th></th>\n",
       "      <th>Customer ID</th>\n",
       "      <th>Recency</th>\n",
       "      <th>Frequency</th>\n",
       "    </tr>\n",
       "  </thead>\n",
       "  <tbody>\n",
       "    <tr>\n",
       "      <th>0</th>\n",
       "      <td>AA-10315</td>\n",
       "      <td>-184</td>\n",
       "      <td>11</td>\n",
       "    </tr>\n",
       "    <tr>\n",
       "      <th>1</th>\n",
       "      <td>AA-10375</td>\n",
       "      <td>-19</td>\n",
       "      <td>15</td>\n",
       "    </tr>\n",
       "  </tbody>\n",
       "</table>\n",
       "</div>"
      ],
      "text/plain": [
       "  Customer ID  Recency  Frequency\n",
       "0    AA-10315     -184         11\n",
       "1    AA-10375      -19         15"
      ]
     },
     "execution_count": 423,
     "metadata": {},
     "output_type": "execute_result"
    }
   ],
   "source": [
    "RFM = RFM.merge(frequency,on='Customer ID')\n",
    "\n",
    "RFM.head(2)"
   ]
  },
  {
   "cell_type": "code",
   "execution_count": 424,
   "id": "b2e85b07",
   "metadata": {},
   "outputs": [
    {
     "data": {
      "text/html": [
       "<div>\n",
       "<style scoped>\n",
       "    .dataframe tbody tr th:only-of-type {\n",
       "        vertical-align: middle;\n",
       "    }\n",
       "\n",
       "    .dataframe tbody tr th {\n",
       "        vertical-align: top;\n",
       "    }\n",
       "\n",
       "    .dataframe thead th {\n",
       "        text-align: right;\n",
       "    }\n",
       "</style>\n",
       "<table border=\"1\" class=\"dataframe\">\n",
       "  <thead>\n",
       "    <tr style=\"text-align: right;\">\n",
       "      <th></th>\n",
       "      <th>Recency</th>\n",
       "      <th>Frequency</th>\n",
       "    </tr>\n",
       "  </thead>\n",
       "  <tbody>\n",
       "    <tr>\n",
       "      <th>count</th>\n",
       "      <td>793.000000</td>\n",
       "      <td>793.000000</td>\n",
       "    </tr>\n",
       "    <tr>\n",
       "      <th>mean</th>\n",
       "      <td>-147.292560</td>\n",
       "      <td>12.588903</td>\n",
       "    </tr>\n",
       "    <tr>\n",
       "      <th>std</th>\n",
       "      <td>186.465917</td>\n",
       "      <td>6.242165</td>\n",
       "    </tr>\n",
       "    <tr>\n",
       "      <th>min</th>\n",
       "      <td>-1164.000000</td>\n",
       "      <td>1.000000</td>\n",
       "    </tr>\n",
       "    <tr>\n",
       "      <th>25%</th>\n",
       "      <td>-183.000000</td>\n",
       "      <td>8.000000</td>\n",
       "    </tr>\n",
       "    <tr>\n",
       "      <th>50%</th>\n",
       "      <td>-76.000000</td>\n",
       "      <td>12.000000</td>\n",
       "    </tr>\n",
       "    <tr>\n",
       "      <th>75%</th>\n",
       "      <td>-30.000000</td>\n",
       "      <td>16.000000</td>\n",
       "    </tr>\n",
       "    <tr>\n",
       "      <th>max</th>\n",
       "      <td>0.000000</td>\n",
       "      <td>37.000000</td>\n",
       "    </tr>\n",
       "  </tbody>\n",
       "</table>\n",
       "</div>"
      ],
      "text/plain": [
       "           Recency   Frequency\n",
       "count   793.000000  793.000000\n",
       "mean   -147.292560   12.588903\n",
       "std     186.465917    6.242165\n",
       "min   -1164.000000    1.000000\n",
       "25%    -183.000000    8.000000\n",
       "50%     -76.000000   12.000000\n",
       "75%     -30.000000   16.000000\n",
       "max       0.000000   37.000000"
      ]
     },
     "execution_count": 424,
     "metadata": {},
     "output_type": "execute_result"
    }
   ],
   "source": [
    "RFM.describe()"
   ]
  },
  {
   "cell_type": "code",
   "execution_count": 425,
   "id": "ef8e6f38",
   "metadata": {},
   "outputs": [
    {
     "data": {
      "text/plain": [
       "(0.0, 50.0)"
      ]
     },
     "execution_count": 425,
     "metadata": {},
     "output_type": "execute_result"
    },
    {
     "data": {
      "image/png": "[encoded data removed]",
      "text/plain": [
       "<Figure size 432x288 with 1 Axes>"
      ]
     },
     "metadata": {
      "needs_background": "light"
     },
     "output_type": "display_data"
    }
   ],
   "source": [
    "sns.boxplot(y='Frequency',data=RFM)\n",
    "plt.ylim(0,50)"
   ]
  },
  {
   "cell_type": "code",
   "execution_count": 426,
   "id": "7c551954",
   "metadata": {},
   "outputs": [
    {
     "data": {
      "image/png": "[encoded data removed]",
      "text/plain": [
       "<Figure size 432x288 with 1 Axes>"
      ]
     },
     "metadata": {
      "needs_background": "light"
     },
     "output_type": "display_data"
    }
   ],
   "source": [
    "sns.histplot(data=RFM['Frequency'])\n",
    "plt.title('Frequency Distribution')\n",
    "plt.xlim(0,40)\n",
    "plt.show()"
   ]
  },
  {
   "cell_type": "markdown",
   "id": "db34f04e",
   "metadata": {},
   "source": [
    "# Calculating Monetary Value"
   ]
  },
  {
   "cell_type": "code",
   "execution_count": 427,
   "id": "7bacf1f0",
   "metadata": {},
   "outputs": [
    {
     "data": {
      "text/plain": [
       "Customer ID\n",
       "AA-10315    5563.560\n",
       "AA-10375    1056.390\n",
       "AA-10480    1790.512\n",
       "AA-10645    5086.935\n",
       "AB-10015     886.156\n",
       "              ...   \n",
       "XP-21865    2374.658\n",
       "YC-21895    5454.350\n",
       "YS-21880    6720.444\n",
       "ZC-21910    8025.707\n",
       "ZD-21925    1493.944\n",
       "Name: Sales, Length: 793, dtype: float64"
      ]
     },
     "execution_count": 427,
     "metadata": {},
     "output_type": "execute_result"
    }
   ],
   "source": [
    "monetary=(data.groupby('Customer ID').Sales.sum())\n",
    "monetary"
   ]
  },
  {
   "cell_type": "code",
   "execution_count": 428,
   "id": "7d484d2f",
   "metadata": {},
   "outputs": [
    {
     "data": {
      "text/plain": [
       "Customer ID\n",
       "AA-10315    5563.56\n",
       "AA-10375    1056.39\n",
       "Name: Monetary, dtype: float64"
      ]
     },
     "execution_count": 428,
     "metadata": {},
     "output_type": "execute_result"
    }
   ],
   "source": [
    "monetary = monetary.rename('Monetary')\n",
    "monetary.head(2)"
   ]
  },
  {
   "cell_type": "code",
   "execution_count": 429,
   "id": "9395c92d",
   "metadata": {},
   "outputs": [
    {
     "data": {
      "text/html": [
       "<div>\n",
       "<style scoped>\n",
       "    .dataframe tbody tr th:only-of-type {\n",
       "        vertical-align: middle;\n",
       "    }\n",
       "\n",
       "    .dataframe tbody tr th {\n",
       "        vertical-align: top;\n",
       "    }\n",
       "\n",
       "    .dataframe thead th {\n",
       "        text-align: right;\n",
       "    }\n",
       "</style>\n",
       "<table border=\"1\" class=\"dataframe\">\n",
       "  <thead>\n",
       "    <tr style=\"text-align: right;\">\n",
       "      <th></th>\n",
       "      <th>Customer ID</th>\n",
       "      <th>Recency</th>\n",
       "      <th>Frequency</th>\n",
       "      <th>Monetary</th>\n",
       "    </tr>\n",
       "  </thead>\n",
       "  <tbody>\n",
       "    <tr>\n",
       "      <th>0</th>\n",
       "      <td>AA-10315</td>\n",
       "      <td>-184</td>\n",
       "      <td>11</td>\n",
       "      <td>5563.56</td>\n",
       "    </tr>\n",
       "    <tr>\n",
       "      <th>1</th>\n",
       "      <td>AA-10375</td>\n",
       "      <td>-19</td>\n",
       "      <td>15</td>\n",
       "      <td>1056.39</td>\n",
       "    </tr>\n",
       "  </tbody>\n",
       "</table>\n",
       "</div>"
      ],
      "text/plain": [
       "  Customer ID  Recency  Frequency  Monetary\n",
       "0    AA-10315     -184         11   5563.56\n",
       "1    AA-10375      -19         15   1056.39"
      ]
     },
     "execution_count": 429,
     "metadata": {},
     "output_type": "execute_result"
    }
   ],
   "source": [
    "RFM = RFM.merge(monetary,on='Customer ID')\n",
    "\n",
    "RFM.head(2)"
   ]
  },
  {
   "cell_type": "code",
   "execution_count": 430,
   "id": "5e341e3c",
   "metadata": {},
   "outputs": [
    {
     "data": {
      "image/png": "[encoded data removed]",
      "text/plain": [
       "<Figure size 432x288 with 1 Axes>"
      ]
     },
     "metadata": {
      "needs_background": "light"
     },
     "output_type": "display_data"
    }
   ],
   "source": [
    "sns.boxplot(y='Monetary',data=RFM)\n",
    "\n",
    "plt.ylim(0,30000)\n",
    "plt.show()"
   ]
  },
  {
   "cell_type": "code",
   "execution_count": 431,
   "id": "f2cd95b6",
   "metadata": {},
   "outputs": [
    {
     "data": {
      "image/png": "[encoded data removed]",
      "text/plain": [
       "<Figure size 432x288 with 1 Axes>"
      ]
     },
     "metadata": {
      "needs_background": "light"
     },
     "output_type": "display_data"
    }
   ],
   "source": [
    "sns.histplot(data=RFM['Monetary'])\n",
    "plt.title('Monetary Value Distribution')\n",
    "plt.xlim(0,20000)\n",
    "plt.show()"
   ]
  },
  {
   "cell_type": "code",
   "execution_count": 432,
   "id": "a9c92b33",
   "metadata": {},
   "outputs": [],
   "source": [
    "kmeans = KMeans(n_clusters=4,random_state=1)"
   ]
  },
  {
   "cell_type": "code",
   "execution_count": 433,
   "id": "950b4ce9",
   "metadata": {},
   "outputs": [],
   "source": [
    "def order_cluster(cluster_field_name, target_field_name,df,ascending):\n",
    "\n",
    "    #create column names using a prefix\n",
    "    new_cluster_field_name = 'new_' + cluster_field_name\n",
    "    #get mean value for the target column name\n",
    "    df_new = df.groupby(cluster_field_name)[target_field_name].mean().reset_index()\n",
    "    #sort mean values in ascending order\n",
    "    df_new = df_new.sort_values(by=target_field_name,ascending=ascending).reset_index(drop=True)\n",
    "    #create an index\n",
    "    df_new['index'] = df_new.index\n",
    "    #merge the new dataframe with old dataframe\n",
    "    df_final = pd.merge(df,df_new[[cluster_field_name,'index']], on=cluster_field_name)\n",
    "    #remove the old column\n",
    "    df_final = df_final.drop([cluster_field_name],axis=1)\n",
    "    #rename the index as the metric score we want\n",
    "    df_final = df_final.rename(columns={\"index\":cluster_field_name})\n",
    "    return df_final"
   ]
  },
  {
   "cell_type": "markdown",
   "id": "5e6545d7",
   "metadata": {},
   "source": [
    "# Recenct Cluster"
   ]
  },
  {
   "cell_type": "code",
   "execution_count": 434,
   "id": "2d54f690",
   "metadata": {},
   "outputs": [
    {
     "data": {
      "text/plain": [
       "KMeans(n_clusters=4, random_state=1)"
      ]
     },
     "execution_count": 434,
     "metadata": {},
     "output_type": "execute_result"
    }
   ],
   "source": [
    "kmeans.fit(RFM[['Recency']])"
   ]
  },
  {
   "cell_type": "code",
   "execution_count": 435,
   "id": "35f0df82",
   "metadata": {},
   "outputs": [],
   "source": [
    "recency_labels = kmeans.predict(RFM[['Recency']])"
   ]
  },
  {
   "cell_type": "code",
   "execution_count": 436,
   "id": "fc95634f",
   "metadata": {},
   "outputs": [],
   "source": [
    "RFM['Recency_Score'] = recency_labels"
   ]
  },
  {
   "cell_type": "code",
   "execution_count": 437,
   "id": "51039e49",
   "metadata": {},
   "outputs": [],
   "source": [
    "RFM = order_cluster('Recency_Score', 'Recency',RFM,True)"
   ]
  },
  {
   "cell_type": "code",
   "execution_count": 438,
   "id": "c36aef45",
   "metadata": {},
   "outputs": [
    {
     "data": {
      "text/html": [
       "<div>\n",
       "<style scoped>\n",
       "    .dataframe tbody tr th:only-of-type {\n",
       "        vertical-align: middle;\n",
       "    }\n",
       "\n",
       "    .dataframe tbody tr th {\n",
       "        vertical-align: top;\n",
       "    }\n",
       "\n",
       "    .dataframe thead th {\n",
       "        text-align: right;\n",
       "    }\n",
       "</style>\n",
       "<table border=\"1\" class=\"dataframe\">\n",
       "  <thead>\n",
       "    <tr style=\"text-align: right;\">\n",
       "      <th></th>\n",
       "      <th>count</th>\n",
       "      <th>mean</th>\n",
       "      <th>std</th>\n",
       "      <th>min</th>\n",
       "      <th>25%</th>\n",
       "      <th>50%</th>\n",
       "      <th>75%</th>\n",
       "      <th>max</th>\n",
       "    </tr>\n",
       "    <tr>\n",
       "      <th>Recency_Score</th>\n",
       "      <th></th>\n",
       "      <th></th>\n",
       "      <th></th>\n",
       "      <th></th>\n",
       "      <th></th>\n",
       "      <th></th>\n",
       "      <th></th>\n",
       "      <th></th>\n",
       "    </tr>\n",
       "  </thead>\n",
       "  <tbody>\n",
       "    <tr>\n",
       "      <th>0</th>\n",
       "      <td>29.0</td>\n",
       "      <td>-806.896552</td>\n",
       "      <td>143.366500</td>\n",
       "      <td>-1164.0</td>\n",
       "      <td>-834.00</td>\n",
       "      <td>-768.0</td>\n",
       "      <td>-718.00</td>\n",
       "      <td>-637.0</td>\n",
       "    </tr>\n",
       "    <tr>\n",
       "      <th>1</th>\n",
       "      <td>86.0</td>\n",
       "      <td>-439.779070</td>\n",
       "      <td>75.871470</td>\n",
       "      <td>-614.0</td>\n",
       "      <td>-490.50</td>\n",
       "      <td>-415.0</td>\n",
       "      <td>-386.25</td>\n",
       "      <td>-327.0</td>\n",
       "    </tr>\n",
       "    <tr>\n",
       "      <th>2</th>\n",
       "      <td>138.0</td>\n",
       "      <td>-203.978261</td>\n",
       "      <td>50.348344</td>\n",
       "      <td>-320.0</td>\n",
       "      <td>-239.75</td>\n",
       "      <td>-194.5</td>\n",
       "      <td>-160.25</td>\n",
       "      <td>-130.0</td>\n",
       "    </tr>\n",
       "    <tr>\n",
       "      <th>3</th>\n",
       "      <td>540.0</td>\n",
       "      <td>-50.801852</td>\n",
       "      <td>35.516120</td>\n",
       "      <td>-126.0</td>\n",
       "      <td>-78.25</td>\n",
       "      <td>-42.0</td>\n",
       "      <td>-22.00</td>\n",
       "      <td>0.0</td>\n",
       "    </tr>\n",
       "  </tbody>\n",
       "</table>\n",
       "</div>"
      ],
      "text/plain": [
       "               count        mean         std     min     25%    50%     75%  \\\n",
       "Recency_Score                                                                 \n",
       "0               29.0 -806.896552  143.366500 -1164.0 -834.00 -768.0 -718.00   \n",
       "1               86.0 -439.779070   75.871470  -614.0 -490.50 -415.0 -386.25   \n",
       "2              138.0 -203.978261   50.348344  -320.0 -239.75 -194.5 -160.25   \n",
       "3              540.0  -50.801852   35.516120  -126.0  -78.25  -42.0  -22.00   \n",
       "\n",
       "                 max  \n",
       "Recency_Score         \n",
       "0             -637.0  \n",
       "1             -327.0  \n",
       "2             -130.0  \n",
       "3                0.0  "
      ]
     },
     "execution_count": 438,
     "metadata": {},
     "output_type": "execute_result"
    }
   ],
   "source": [
    "RFM.groupby('Recency_Score').Recency.describe()"
   ]
  },
  {
   "cell_type": "code",
   "execution_count": 439,
   "id": "f3e26b38",
   "metadata": {},
   "outputs": [
    {
     "data": {
      "image/png": "[encoded data removed]",
      "text/plain": [
       "<Figure size 720x432 with 1 Axes>"
      ]
     },
     "metadata": {
      "needs_background": "light"
     },
     "output_type": "display_data"
    }
   ],
   "source": [
    "plt.figure(figsize=(10,6))\n",
    "sns.scatterplot(x=RFM['Customer ID'],\n",
    "                y='Recency',\n",
    "                hue='Recency_Score',\n",
    "                data=RFM,palette=['red','blue','yellow','black'])\n",
    "                #plt.title=='Frequency Distribution')\n",
    "\n",
    "plt.show()"
   ]
  },
  {
   "cell_type": "markdown",
   "id": "9d735dcd",
   "metadata": {},
   "source": [
    "# Frequency Cluster"
   ]
  },
  {
   "cell_type": "code",
   "execution_count": 440,
   "id": "ef4d7836",
   "metadata": {},
   "outputs": [
    {
     "data": {
      "text/html": [
       "<div>\n",
       "<style scoped>\n",
       "    .dataframe tbody tr th:only-of-type {\n",
       "        vertical-align: middle;\n",
       "    }\n",
       "\n",
       "    .dataframe tbody tr th {\n",
       "        vertical-align: top;\n",
       "    }\n",
       "\n",
       "    .dataframe thead th {\n",
       "        text-align: right;\n",
       "    }\n",
       "</style>\n",
       "<table border=\"1\" class=\"dataframe\">\n",
       "  <thead>\n",
       "    <tr style=\"text-align: right;\">\n",
       "      <th></th>\n",
       "      <th>count</th>\n",
       "      <th>mean</th>\n",
       "      <th>std</th>\n",
       "      <th>min</th>\n",
       "      <th>25%</th>\n",
       "      <th>50%</th>\n",
       "      <th>75%</th>\n",
       "      <th>max</th>\n",
       "    </tr>\n",
       "    <tr>\n",
       "      <th>Frequency_Score</th>\n",
       "      <th></th>\n",
       "      <th></th>\n",
       "      <th></th>\n",
       "      <th></th>\n",
       "      <th></th>\n",
       "      <th></th>\n",
       "      <th></th>\n",
       "      <th></th>\n",
       "    </tr>\n",
       "  </thead>\n",
       "  <tbody>\n",
       "    <tr>\n",
       "      <th>0</th>\n",
       "      <td>270.0</td>\n",
       "      <td>6.388889</td>\n",
       "      <td>2.138483</td>\n",
       "      <td>1.0</td>\n",
       "      <td>5.0</td>\n",
       "      <td>7.0</td>\n",
       "      <td>8.0</td>\n",
       "      <td>9.0</td>\n",
       "    </tr>\n",
       "    <tr>\n",
       "      <th>1</th>\n",
       "      <td>308.0</td>\n",
       "      <td>12.344156</td>\n",
       "      <td>1.725002</td>\n",
       "      <td>10.0</td>\n",
       "      <td>11.0</td>\n",
       "      <td>12.0</td>\n",
       "      <td>14.0</td>\n",
       "      <td>15.0</td>\n",
       "    </tr>\n",
       "    <tr>\n",
       "      <th>2</th>\n",
       "      <td>170.0</td>\n",
       "      <td>18.870588</td>\n",
       "      <td>2.122231</td>\n",
       "      <td>16.0</td>\n",
       "      <td>17.0</td>\n",
       "      <td>19.0</td>\n",
       "      <td>20.0</td>\n",
       "      <td>23.0</td>\n",
       "    </tr>\n",
       "    <tr>\n",
       "      <th>3</th>\n",
       "      <td>45.0</td>\n",
       "      <td>27.733333</td>\n",
       "      <td>3.466725</td>\n",
       "      <td>24.0</td>\n",
       "      <td>25.0</td>\n",
       "      <td>27.0</td>\n",
       "      <td>30.0</td>\n",
       "      <td>37.0</td>\n",
       "    </tr>\n",
       "  </tbody>\n",
       "</table>\n",
       "</div>"
      ],
      "text/plain": [
       "                 count       mean       std   min   25%   50%   75%   max\n",
       "Frequency_Score                                                          \n",
       "0                270.0   6.388889  2.138483   1.0   5.0   7.0   8.0   9.0\n",
       "1                308.0  12.344156  1.725002  10.0  11.0  12.0  14.0  15.0\n",
       "2                170.0  18.870588  2.122231  16.0  17.0  19.0  20.0  23.0\n",
       "3                 45.0  27.733333  3.466725  24.0  25.0  27.0  30.0  37.0"
      ]
     },
     "execution_count": 440,
     "metadata": {},
     "output_type": "execute_result"
    }
   ],
   "source": [
    "kmeans.fit(RFM[['Frequency']])\n",
    "\n",
    "#predict clusters\n",
    "frequency_labels = kmeans.predict(RFM[['Frequency']])\n",
    "\n",
    "#save clusters in the data frame\n",
    "RFM['Frequency_Score'] = frequency_labels\n",
    "\n",
    "#order the clusters\n",
    "RFM = order_cluster('Frequency_Score', 'Frequency',RFM,True)\n",
    "\n",
    "#view details of clusters\n",
    "RFM.groupby('Frequency_Score').Frequency.describe()"
   ]
  },
  {
   "cell_type": "code",
   "execution_count": 441,
   "id": "f9ccab66",
   "metadata": {},
   "outputs": [
    {
     "data": {
      "image/png": "[encoded data removed]",
      "text/plain": [
       "<Figure size 720x432 with 1 Axes>"
      ]
     },
     "metadata": {
      "needs_background": "light"
     },
     "output_type": "display_data"
    }
   ],
   "source": [
    "plt.figure(figsize=(10,6))\n",
    "sns.scatterplot(x=RFM['Customer ID'],\n",
    "                y='Frequency',\n",
    "                hue='Frequency_Score',\n",
    "                data=RFM,palette=['red','blue','yellow','violet'])\n",
    "\n",
    "plt.show()"
   ]
  },
  {
   "cell_type": "markdown",
   "id": "f9f525c4",
   "metadata": {},
   "source": [
    "# Monetary Value Cluster"
   ]
  },
  {
   "cell_type": "code",
   "execution_count": 442,
   "id": "947077e3",
   "metadata": {},
   "outputs": [
    {
     "data": {
      "text/html": [
       "<div>\n",
       "<style scoped>\n",
       "    .dataframe tbody tr th:only-of-type {\n",
       "        vertical-align: middle;\n",
       "    }\n",
       "\n",
       "    .dataframe tbody tr th {\n",
       "        vertical-align: top;\n",
       "    }\n",
       "\n",
       "    .dataframe thead th {\n",
       "        text-align: right;\n",
       "    }\n",
       "</style>\n",
       "<table border=\"1\" class=\"dataframe\">\n",
       "  <thead>\n",
       "    <tr style=\"text-align: right;\">\n",
       "      <th></th>\n",
       "      <th>count</th>\n",
       "      <th>mean</th>\n",
       "      <th>std</th>\n",
       "      <th>min</th>\n",
       "      <th>25%</th>\n",
       "      <th>50%</th>\n",
       "      <th>75%</th>\n",
       "      <th>max</th>\n",
       "    </tr>\n",
       "    <tr>\n",
       "      <th>Monetary_Score</th>\n",
       "      <th></th>\n",
       "      <th></th>\n",
       "      <th></th>\n",
       "      <th></th>\n",
       "      <th></th>\n",
       "      <th></th>\n",
       "      <th></th>\n",
       "      <th></th>\n",
       "    </tr>\n",
       "  </thead>\n",
       "  <tbody>\n",
       "    <tr>\n",
       "      <th>0</th>\n",
       "      <td>368.0</td>\n",
       "      <td>1065.205560</td>\n",
       "      <td>558.862772</td>\n",
       "      <td>4.833</td>\n",
       "      <td>648.11950</td>\n",
       "      <td>1057.4830</td>\n",
       "      <td>1499.5840</td>\n",
       "      <td>2120.954</td>\n",
       "    </tr>\n",
       "    <tr>\n",
       "      <th>1</th>\n",
       "      <td>306.0</td>\n",
       "      <td>3188.159782</td>\n",
       "      <td>774.829393</td>\n",
       "      <td>2139.790</td>\n",
       "      <td>2538.42225</td>\n",
       "      <td>3056.9535</td>\n",
       "      <td>3780.5525</td>\n",
       "      <td>4915.602</td>\n",
       "    </tr>\n",
       "    <tr>\n",
       "      <th>2</th>\n",
       "      <td>99.0</td>\n",
       "      <td>6624.134184</td>\n",
       "      <td>1270.352056</td>\n",
       "      <td>4930.474</td>\n",
       "      <td>5515.46950</td>\n",
       "      <td>6339.5576</td>\n",
       "      <td>7644.1010</td>\n",
       "      <td>9799.923</td>\n",
       "    </tr>\n",
       "    <tr>\n",
       "      <th>3</th>\n",
       "      <td>20.0</td>\n",
       "      <td>13245.483350</td>\n",
       "      <td>3499.615627</td>\n",
       "      <td>10310.880</td>\n",
       "      <td>11093.86700</td>\n",
       "      <td>12010.4115</td>\n",
       "      <td>14249.8145</td>\n",
       "      <td>25043.050</td>\n",
       "    </tr>\n",
       "  </tbody>\n",
       "</table>\n",
       "</div>"
      ],
      "text/plain": [
       "                count          mean          std        min          25%  \\\n",
       "Monetary_Score                                                             \n",
       "0               368.0   1065.205560   558.862772      4.833    648.11950   \n",
       "1               306.0   3188.159782   774.829393   2139.790   2538.42225   \n",
       "2                99.0   6624.134184  1270.352056   4930.474   5515.46950   \n",
       "3                20.0  13245.483350  3499.615627  10310.880  11093.86700   \n",
       "\n",
       "                       50%         75%        max  \n",
       "Monetary_Score                                     \n",
       "0                1057.4830   1499.5840   2120.954  \n",
       "1                3056.9535   3780.5525   4915.602  \n",
       "2                6339.5576   7644.1010   9799.923  \n",
       "3               12010.4115  14249.8145  25043.050  "
      ]
     },
     "execution_count": 442,
     "metadata": {},
     "output_type": "execute_result"
    }
   ],
   "source": [
    "#fit model\n",
    "kmeans.fit(RFM[['Monetary']])\n",
    "#predict clusters\n",
    "monetary_labels = kmeans.predict(RFM[['Monetary']])\n",
    "#save clusters in the data frame\n",
    "RFM['Monetary_Score'] = monetary_labels\n",
    "#order clusters\n",
    "RFM = order_cluster('Monetary_Score', 'Monetary',RFM,True)\n",
    "#view details of clusters\n",
    "RFM.groupby('Monetary_Score').Monetary.describe()"
   ]
  },
  {
   "cell_type": "code",
   "execution_count": 443,
   "id": "d071a3a2",
   "metadata": {},
   "outputs": [
    {
     "data": {
      "image/png": "[encoded data removed]",
      "text/plain": [
       "<Figure size 576x432 with 1 Axes>"
      ]
     },
     "metadata": {
      "needs_background": "light"
     },
     "output_type": "display_data"
    }
   ],
   "source": [
    "plt.figure(figsize=(8,6))\n",
    "sns.scatterplot(x=RFM['Customer ID'],\n",
    "                y='Monetary',\n",
    "                hue='Monetary_Score',\n",
    "                data=RFM,\n",
    "                palette=['red','blue','orange','green'])\n",
    "\n",
    "plt.show()"
   ]
  },
  {
   "cell_type": "markdown",
   "id": "d936dbe8",
   "metadata": {},
   "source": [
    "# Calculating Overall RFM Score"
   ]
  },
  {
   "cell_type": "code",
   "execution_count": 444,
   "id": "f9602566",
   "metadata": {},
   "outputs": [
    {
     "data": {
      "text/html": [
       "<div>\n",
       "<style scoped>\n",
       "    .dataframe tbody tr th:only-of-type {\n",
       "        vertical-align: middle;\n",
       "    }\n",
       "\n",
       "    .dataframe tbody tr th {\n",
       "        vertical-align: top;\n",
       "    }\n",
       "\n",
       "    .dataframe thead th {\n",
       "        text-align: right;\n",
       "    }\n",
       "</style>\n",
       "<table border=\"1\" class=\"dataframe\">\n",
       "  <thead>\n",
       "    <tr style=\"text-align: right;\">\n",
       "      <th></th>\n",
       "      <th>Customer ID</th>\n",
       "      <th>Recency</th>\n",
       "      <th>Frequency</th>\n",
       "      <th>Monetary</th>\n",
       "      <th>Recency_Score</th>\n",
       "      <th>Frequency_Score</th>\n",
       "      <th>Monetary_Score</th>\n",
       "      <th>Overall_Score</th>\n",
       "    </tr>\n",
       "  </thead>\n",
       "  <tbody>\n",
       "    <tr>\n",
       "      <th>0</th>\n",
       "      <td>AA-10315</td>\n",
       "      <td>-184</td>\n",
       "      <td>11</td>\n",
       "      <td>5563.560</td>\n",
       "      <td>2</td>\n",
       "      <td>1</td>\n",
       "      <td>2</td>\n",
       "      <td>5</td>\n",
       "    </tr>\n",
       "    <tr>\n",
       "      <th>1</th>\n",
       "      <td>CP-12340</td>\n",
       "      <td>-160</td>\n",
       "      <td>15</td>\n",
       "      <td>5888.275</td>\n",
       "      <td>2</td>\n",
       "      <td>1</td>\n",
       "      <td>2</td>\n",
       "      <td>5</td>\n",
       "    </tr>\n",
       "    <tr>\n",
       "      <th>2</th>\n",
       "      <td>DW-13480</td>\n",
       "      <td>-217</td>\n",
       "      <td>11</td>\n",
       "      <td>5271.628</td>\n",
       "      <td>2</td>\n",
       "      <td>1</td>\n",
       "      <td>2</td>\n",
       "      <td>5</td>\n",
       "    </tr>\n",
       "    <tr>\n",
       "      <th>3</th>\n",
       "      <td>HR-14830</td>\n",
       "      <td>-159</td>\n",
       "      <td>14</td>\n",
       "      <td>5248.787</td>\n",
       "      <td>2</td>\n",
       "      <td>1</td>\n",
       "      <td>2</td>\n",
       "      <td>5</td>\n",
       "    </tr>\n",
       "    <tr>\n",
       "      <th>4</th>\n",
       "      <td>IL-15100</td>\n",
       "      <td>-142</td>\n",
       "      <td>14</td>\n",
       "      <td>5040.736</td>\n",
       "      <td>2</td>\n",
       "      <td>1</td>\n",
       "      <td>2</td>\n",
       "      <td>5</td>\n",
       "    </tr>\n",
       "  </tbody>\n",
       "</table>\n",
       "</div>"
      ],
      "text/plain": [
       "  Customer ID  Recency  Frequency  Monetary  Recency_Score  Frequency_Score  \\\n",
       "0    AA-10315     -184         11  5563.560              2                1   \n",
       "1    CP-12340     -160         15  5888.275              2                1   \n",
       "2    DW-13480     -217         11  5271.628              2                1   \n",
       "3    HR-14830     -159         14  5248.787              2                1   \n",
       "4    IL-15100     -142         14  5040.736              2                1   \n",
       "\n",
       "   Monetary_Score  Overall_Score  \n",
       "0               2              5  \n",
       "1               2              5  \n",
       "2               2              5  \n",
       "3               2              5  \n",
       "4               2              5  "
      ]
     },
     "execution_count": 444,
     "metadata": {},
     "output_type": "execute_result"
    }
   ],
   "source": [
    "\n",
    "RFM['Overall_Score'] = RFM[['Recency_Score','Frequency_Score','Monetary_Score']].sum(axis=1)\n",
    "RFM.head(5)"
   ]
  },
  {
   "cell_type": "code",
   "execution_count": 445,
   "id": "04bb1f44",
   "metadata": {},
   "outputs": [
    {
     "data": {
      "text/html": [
       "<div>\n",
       "<style scoped>\n",
       "    .dataframe tbody tr th:only-of-type {\n",
       "        vertical-align: middle;\n",
       "    }\n",
       "\n",
       "    .dataframe tbody tr th {\n",
       "        vertical-align: top;\n",
       "    }\n",
       "\n",
       "    .dataframe thead th {\n",
       "        text-align: right;\n",
       "    }\n",
       "</style>\n",
       "<table border=\"1\" class=\"dataframe\">\n",
       "  <thead>\n",
       "    <tr style=\"text-align: right;\">\n",
       "      <th></th>\n",
       "      <th>Customer ID</th>\n",
       "      <th>Recency</th>\n",
       "      <th>Frequency</th>\n",
       "      <th>Monetary</th>\n",
       "      <th>Recency_Score</th>\n",
       "      <th>Frequency_Score</th>\n",
       "      <th>Monetary_Score</th>\n",
       "      <th>Overall_Score</th>\n",
       "    </tr>\n",
       "  </thead>\n",
       "  <tbody>\n",
       "    <tr>\n",
       "      <th>788</th>\n",
       "      <td>CL-12565</td>\n",
       "      <td>-284</td>\n",
       "      <td>28</td>\n",
       "      <td>10880.546</td>\n",
       "      <td>2</td>\n",
       "      <td>3</td>\n",
       "      <td>3</td>\n",
       "      <td>8</td>\n",
       "    </tr>\n",
       "    <tr>\n",
       "      <th>789</th>\n",
       "      <td>EH-13765</td>\n",
       "      <td>-135</td>\n",
       "      <td>32</td>\n",
       "      <td>10310.880</td>\n",
       "      <td>2</td>\n",
       "      <td>3</td>\n",
       "      <td>3</td>\n",
       "      <td>8</td>\n",
       "    </tr>\n",
       "    <tr>\n",
       "      <th>790</th>\n",
       "      <td>GT-14710</td>\n",
       "      <td>-36</td>\n",
       "      <td>29</td>\n",
       "      <td>11820.120</td>\n",
       "      <td>3</td>\n",
       "      <td>3</td>\n",
       "      <td>3</td>\n",
       "      <td>9</td>\n",
       "    </tr>\n",
       "    <tr>\n",
       "      <th>791</th>\n",
       "      <td>KL-16645</td>\n",
       "      <td>-47</td>\n",
       "      <td>29</td>\n",
       "      <td>14175.229</td>\n",
       "      <td>3</td>\n",
       "      <td>3</td>\n",
       "      <td>3</td>\n",
       "      <td>9</td>\n",
       "    </tr>\n",
       "    <tr>\n",
       "      <th>792</th>\n",
       "      <td>SV-20365</td>\n",
       "      <td>-101</td>\n",
       "      <td>32</td>\n",
       "      <td>11470.950</td>\n",
       "      <td>3</td>\n",
       "      <td>3</td>\n",
       "      <td>3</td>\n",
       "      <td>9</td>\n",
       "    </tr>\n",
       "  </tbody>\n",
       "</table>\n",
       "</div>"
      ],
      "text/plain": [
       "    Customer ID  Recency  Frequency   Monetary  Recency_Score  \\\n",
       "788    CL-12565     -284         28  10880.546              2   \n",
       "789    EH-13765     -135         32  10310.880              2   \n",
       "790    GT-14710      -36         29  11820.120              3   \n",
       "791    KL-16645      -47         29  14175.229              3   \n",
       "792    SV-20365     -101         32  11470.950              3   \n",
       "\n",
       "     Frequency_Score  Monetary_Score  Overall_Score  \n",
       "788                3               3              8  \n",
       "789                3               3              8  \n",
       "790                3               3              9  \n",
       "791                3               3              9  \n",
       "792                3               3              9  "
      ]
     },
     "execution_count": 445,
     "metadata": {},
     "output_type": "execute_result"
    }
   ],
   "source": [
    "RFM.tail(5)"
   ]
  },
  {
   "cell_type": "code",
   "execution_count": 446,
   "id": "f06aab41",
   "metadata": {},
   "outputs": [
    {
     "data": {
      "text/plain": [
       "5    159\n",
       "3    154\n",
       "4    146\n",
       "6    119\n",
       "2     69\n",
       "7     53\n",
       "1     46\n",
       "8     24\n",
       "0     20\n",
       "9      3\n",
       "Name: Overall_Score, dtype: int64"
      ]
     },
     "execution_count": 446,
     "metadata": {},
     "output_type": "execute_result"
    }
   ],
   "source": [
    "RFM.Overall_Score.value_counts()"
   ]
  },
  {
   "cell_type": "code",
   "execution_count": 447,
   "id": "2a30050b",
   "metadata": {},
   "outputs": [
    {
     "data": {
      "image/png": "[encoded data removed]",
      "text/plain": [
       "<Figure size 432x288 with 1 Axes>"
      ]
     },
     "metadata": {
      "needs_background": "light"
     },
     "output_type": "display_data"
    }
   ],
   "source": [
    "RFM.Overall_Score.value_counts().sort_index().plot.bar()\n",
    "plt.ylabel('Number of Customers')\n",
    "plt.xlabel('Overall Score')\n",
    "plt.title('Overall Score per Number of customer')\n",
    "\n",
    "plt.show()"
   ]
  },
  {
   "cell_type": "code",
   "execution_count": 448,
   "id": "14bf2141",
   "metadata": {},
   "outputs": [
    {
     "data": {
      "text/html": [
       "<div>\n",
       "<style scoped>\n",
       "    .dataframe tbody tr th:only-of-type {\n",
       "        vertical-align: middle;\n",
       "    }\n",
       "\n",
       "    .dataframe tbody tr th {\n",
       "        vertical-align: top;\n",
       "    }\n",
       "\n",
       "    .dataframe thead th {\n",
       "        text-align: right;\n",
       "    }\n",
       "</style>\n",
       "<table border=\"1\" class=\"dataframe\">\n",
       "  <thead>\n",
       "    <tr style=\"text-align: right;\">\n",
       "      <th></th>\n",
       "      <th>count</th>\n",
       "      <th>mean</th>\n",
       "      <th>std</th>\n",
       "      <th>min</th>\n",
       "      <th>25%</th>\n",
       "      <th>50%</th>\n",
       "      <th>75%</th>\n",
       "      <th>max</th>\n",
       "    </tr>\n",
       "    <tr>\n",
       "      <th>Overall_Score</th>\n",
       "      <th></th>\n",
       "      <th></th>\n",
       "      <th></th>\n",
       "      <th></th>\n",
       "      <th></th>\n",
       "      <th></th>\n",
       "      <th></th>\n",
       "      <th></th>\n",
       "    </tr>\n",
       "  </thead>\n",
       "  <tbody>\n",
       "    <tr>\n",
       "      <th>0</th>\n",
       "      <td>20.0</td>\n",
       "      <td>815.016300</td>\n",
       "      <td>668.656230</td>\n",
       "      <td>48.360</td>\n",
       "      <td>247.6525</td>\n",
       "      <td>507.2440</td>\n",
       "      <td>1327.0445</td>\n",
       "      <td>2096.3920</td>\n",
       "    </tr>\n",
       "    <tr>\n",
       "      <th>1</th>\n",
       "      <td>46.0</td>\n",
       "      <td>868.249272</td>\n",
       "      <td>629.940406</td>\n",
       "      <td>4.833</td>\n",
       "      <td>404.6345</td>\n",
       "      <td>821.1220</td>\n",
       "      <td>1241.5155</td>\n",
       "      <td>2550.8740</td>\n",
       "    </tr>\n",
       "    <tr>\n",
       "      <th>2</th>\n",
       "      <td>69.0</td>\n",
       "      <td>1329.109545</td>\n",
       "      <td>920.207274</td>\n",
       "      <td>16.739</td>\n",
       "      <td>675.9420</td>\n",
       "      <td>1094.6780</td>\n",
       "      <td>1821.7420</td>\n",
       "      <td>3984.4524</td>\n",
       "    </tr>\n",
       "    <tr>\n",
       "      <th>3</th>\n",
       "      <td>154.0</td>\n",
       "      <td>1164.051188</td>\n",
       "      <td>785.127699</td>\n",
       "      <td>22.328</td>\n",
       "      <td>639.3250</td>\n",
       "      <td>1034.9310</td>\n",
       "      <td>1597.2755</td>\n",
       "      <td>4432.1380</td>\n",
       "    </tr>\n",
       "    <tr>\n",
       "      <th>4</th>\n",
       "      <td>146.0</td>\n",
       "      <td>2151.139093</td>\n",
       "      <td>1442.550749</td>\n",
       "      <td>385.430</td>\n",
       "      <td>1207.9270</td>\n",
       "      <td>1850.2980</td>\n",
       "      <td>2693.6180</td>\n",
       "      <td>10501.6530</td>\n",
       "    </tr>\n",
       "    <tr>\n",
       "      <th>5</th>\n",
       "      <td>159.0</td>\n",
       "      <td>3483.150497</td>\n",
       "      <td>1923.046220</td>\n",
       "      <td>659.138</td>\n",
       "      <td>2360.8180</td>\n",
       "      <td>3078.6240</td>\n",
       "      <td>4166.3080</td>\n",
       "      <td>19052.2180</td>\n",
       "    </tr>\n",
       "    <tr>\n",
       "      <th>6</th>\n",
       "      <td>119.0</td>\n",
       "      <td>4209.145502</td>\n",
       "      <td>1928.343175</td>\n",
       "      <td>2181.479</td>\n",
       "      <td>2849.8365</td>\n",
       "      <td>3625.3290</td>\n",
       "      <td>4900.0360</td>\n",
       "      <td>14142.3340</td>\n",
       "    </tr>\n",
       "    <tr>\n",
       "      <th>7</th>\n",
       "      <td>53.0</td>\n",
       "      <td>6687.420113</td>\n",
       "      <td>3862.748146</td>\n",
       "      <td>2224.000</td>\n",
       "      <td>4299.1610</td>\n",
       "      <td>5718.5210</td>\n",
       "      <td>7755.6200</td>\n",
       "      <td>25043.0500</td>\n",
       "    </tr>\n",
       "    <tr>\n",
       "      <th>8</th>\n",
       "      <td>24.0</td>\n",
       "      <td>8349.339158</td>\n",
       "      <td>2823.373879</td>\n",
       "      <td>5153.084</td>\n",
       "      <td>6216.2080</td>\n",
       "      <td>7273.3965</td>\n",
       "      <td>10384.2265</td>\n",
       "      <td>15117.3390</td>\n",
       "    </tr>\n",
       "    <tr>\n",
       "      <th>9</th>\n",
       "      <td>3.0</td>\n",
       "      <td>12488.766333</td>\n",
       "      <td>1470.917118</td>\n",
       "      <td>11470.950</td>\n",
       "      <td>11645.5350</td>\n",
       "      <td>11820.1200</td>\n",
       "      <td>12997.6745</td>\n",
       "      <td>14175.2290</td>\n",
       "    </tr>\n",
       "  </tbody>\n",
       "</table>\n",
       "</div>"
      ],
      "text/plain": [
       "               count          mean          std        min         25%  \\\n",
       "Overall_Score                                                            \n",
       "0               20.0    815.016300   668.656230     48.360    247.6525   \n",
       "1               46.0    868.249272   629.940406      4.833    404.6345   \n",
       "2               69.0   1329.109545   920.207274     16.739    675.9420   \n",
       "3              154.0   1164.051188   785.127699     22.328    639.3250   \n",
       "4              146.0   2151.139093  1442.550749    385.430   1207.9270   \n",
       "5              159.0   3483.150497  1923.046220    659.138   2360.8180   \n",
       "6              119.0   4209.145502  1928.343175   2181.479   2849.8365   \n",
       "7               53.0   6687.420113  3862.748146   2224.000   4299.1610   \n",
       "8               24.0   8349.339158  2823.373879   5153.084   6216.2080   \n",
       "9                3.0  12488.766333  1470.917118  11470.950  11645.5350   \n",
       "\n",
       "                      50%         75%         max  \n",
       "Overall_Score                                      \n",
       "0                507.2440   1327.0445   2096.3920  \n",
       "1                821.1220   1241.5155   2550.8740  \n",
       "2               1094.6780   1821.7420   3984.4524  \n",
       "3               1034.9310   1597.2755   4432.1380  \n",
       "4               1850.2980   2693.6180  10501.6530  \n",
       "5               3078.6240   4166.3080  19052.2180  \n",
       "6               3625.3290   4900.0360  14142.3340  \n",
       "7               5718.5210   7755.6200  25043.0500  \n",
       "8               7273.3965  10384.2265  15117.3390  \n",
       "9              11820.1200  12997.6745  14175.2290  "
      ]
     },
     "execution_count": 448,
     "metadata": {},
     "output_type": "execute_result"
    }
   ],
   "source": [
    "RFM.groupby('Overall_Score').Monetary.describe()"
   ]
  },
  {
   "cell_type": "code",
   "execution_count": 449,
   "id": "f88d3286",
   "metadata": {},
   "outputs": [
    {
     "data": {
      "image/png": "[encoded data removed]",
      "text/plain": [
       "<Figure size 1080x288 with 3 Axes>"
      ]
     },
     "metadata": {
      "needs_background": "light"
     },
     "output_type": "display_data"
    }
   ],
   "source": [
    "fig, ax = plt.subplots(1,3,figsize=(15,4))\n",
    "\n",
    "ax[0] = sns.stripplot(y='Frequency',x='Overall_Score',data = RFM, ax=ax[0])\n",
    "ax[0].set_title('Frequency vs Overall Score')\n",
    "\n",
    "ax[1] = sns.stripplot(y='Recency',x='Overall_Score',data = RFM, ax=ax[1])\n",
    "ax[1].set_title('Recency vs Overall Score')\n",
    "\n",
    "ax[2] = sns.stripplot(y='Monetary',x='Overall_Score',data = RFM, ax=ax[2])\n",
    "ax[2].set_title('Monetary Value vs Overall Score')\n",
    "\n",
    "plt.tight_layout()\n",
    "plt.show()"
   ]
  },
  {
   "cell_type": "markdown",
   "id": "da9f7776",
   "metadata": {},
   "source": [
    "# Assigning Segments"
   ]
  },
  {
   "cell_type": "code",
   "execution_count": 450,
   "id": "679e1779",
   "metadata": {},
   "outputs": [],
   "source": [
    "RFM['Segment'] = 'Low Value'\n",
    "RFM.loc[RFM.Overall_Score>3,'Segment'] = 'Mid Value'\n",
    "RFM.loc[RFM.Overall_Score>7,'Segment'] = 'High Value'"
   ]
  },
  {
   "cell_type": "code",
   "execution_count": 451,
   "id": "8ebf69ee",
   "metadata": {},
   "outputs": [
    {
     "data": {
      "text/plain": [
       "793"
      ]
     },
     "execution_count": 451,
     "metadata": {},
     "output_type": "execute_result"
    }
   ],
   "source": [
    "Total=RFM.Segment.value_counts().sum()\n",
    "Total"
   ]
  },
  {
   "cell_type": "code",
   "execution_count": 452,
   "id": "cc3cc476",
   "metadata": {},
   "outputs": [
    {
     "data": {
      "text/plain": [
       "Mid Value     477\n",
       "Low Value     289\n",
       "High Value     27\n",
       "Name: Segment, dtype: int64"
      ]
     },
     "execution_count": 452,
     "metadata": {},
     "output_type": "execute_result"
    }
   ],
   "source": [
    "Values=RFM.Segment.value_counts()\n",
    "Values"
   ]
  },
  {
   "cell_type": "code",
   "execution_count": 453,
   "id": "f59315c2",
   "metadata": {},
   "outputs": [
    {
     "data": {
      "text/plain": [
       "Mid Value     60\n",
       "Low Value     36\n",
       "High Value     3\n",
       "Name: Segment, dtype: int32"
      ]
     },
     "execution_count": 453,
     "metadata": {},
     "output_type": "execute_result"
    }
   ],
   "source": [
    "percentage=((Values/Total)*100).astype(int)\n",
    "percentage"
   ]
  },
  {
   "cell_type": "code",
   "execution_count": 455,
   "id": "64086250",
   "metadata": {},
   "outputs": [
    {
     "data": {
      "image/png": "[encoded data removed]",
      "text/plain": [
       "<Figure size 432x288 with 1 Axes>"
      ]
     },
     "metadata": {
      "needs_background": "light"
     },
     "output_type": "display_data"
    }
   ],
   "source": [
    "RFM.Segment.value_counts().plot.bar()\n",
    "plt.ylabel('Overall Score')\n",
    "plt.xlabel('Segment Values')\n",
    "plt.title('Overall Score per Segment Values')\n",
    "\n",
    "plt.show()"
   ]
  },
  {
   "cell_type": "code",
   "execution_count": null,
   "id": "d795f0c8",
   "metadata": {},
   "outputs": [],
   "source": [
    "RFM.to_csv('RFM_Project.csv')"
   ]
  },
  {
   "cell_type": "code",
   "execution_count": null,
   "id": "7a3717db",
   "metadata": {},
   "outputs": [],
   "source": []
  }
 ],
 "metadata": {
  "kernelspec": {
   "display_name": "Python 3 (ipykernel)",
   "language": "python",
   "name": "python3"
  },
  "language_info": {
   "codemirror_mode": {
    "name": "ipython",
    "version": 3
   },
   "file_extension": ".py",
   "mimetype": "text/x-python",
   "name": "python",
   "nbconvert_exporter": "python",
   "pygments_lexer": "ipython3",
   "version": "3.9.7"
  }
 },
 "nbformat": 4,
 "nbformat_minor": 5
}
